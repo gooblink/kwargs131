{
 "cells": [
  {
   "cell_type": "markdown",
   "metadata": {},
   "source": [
    "# 131  Final Project\n",
    "## Dataset:  Crypto Currency from Kaggle\n",
    "### By Carolanne Link and Vileena Koneru"
   ]
  },
  {
   "cell_type": "markdown",
   "metadata": {},
   "source": [
    "#### Import the CSV "
   ]
  },
  {
   "cell_type": "code",
   "execution_count": 7,
   "metadata": {},
   "outputs": [],
   "source": [
    "import pandas as pd\n",
    "\n",
    "crypto =pd.read_csv('~/Documents/UCLA/Academics/2018 Spring/Stats 131/crypto-markets.csv')"
   ]
  },
  {
   "cell_type": "markdown",
   "metadata": {},
   "source": [
    "#### View Head"
   ]
  },
  {
   "cell_type": "code",
   "execution_count": 8,
   "metadata": {},
   "outputs": [
    {
     "name": "stdout",
     "output_type": "stream",
     "text": [
      "      slug symbol     name        date  ranknow    open    high     low  \\\n",
      "0  bitcoin    BTC  Bitcoin  2013-04-28        1  135.30  135.98  132.10   \n",
      "1  bitcoin    BTC  Bitcoin  2013-04-29        1  134.44  147.49  134.00   \n",
      "2  bitcoin    BTC  Bitcoin  2013-04-30        1  144.00  146.93  134.05   \n",
      "3  bitcoin    BTC  Bitcoin  2013-05-01        1  139.00  139.89  107.72   \n",
      "4  bitcoin    BTC  Bitcoin  2013-05-02        1  116.38  125.60   92.28   \n",
      "\n",
      "    close  volume        market  close_ratio  spread  \n",
      "0  134.21     0.0  1.500520e+09       0.5438    3.88  \n",
      "1  144.54     0.0  1.491160e+09       0.7813   13.49  \n",
      "2  139.00     0.0  1.597780e+09       0.3843   12.88  \n",
      "3  116.99     0.0  1.542820e+09       0.2882   32.17  \n",
      "4  105.21     0.0  1.292190e+09       0.3881   33.32  \n"
     ]
    }
   ],
   "source": [
    "print(crypto.head())"
   ]
  },
  {
   "cell_type": "markdown",
   "metadata": {},
   "source": [
    "## Context and Description of the Data"
   ]
  },
  {
   "cell_type": "markdown",
   "metadata": {},
   "source": [
    "#### Background information on the subject and field of study"
   ]
  },
  {
   "cell_type": "markdown",
   "metadata": {},
   "source": [
    "This dataset came from Kaggle.  The user that it belongs to is listed as Jesse Vent or \"jvent\".  In the About Me section of his profile it says \"Senior data analyst and machine learning enthusiast, working on large scale public service ICT projects\".  It also says he's from Adelaide, Australia and that his preferred languages are R \"and a little python\".\n",
    "\n",
    "I don't know much about crypto-currency and therefore I was intrigued to explore the dataset.  Therefore, I did some background research.  \n",
    "\n",
    "For starters, cryptocurrencies in Merriam-Webster Dictionary is defined as  \"any form of currency that only exists digitally, that usually has no central issuing or regulating authority but instead uses a decentralized system to record transactions and manage the issuance of new units, and that relies on cryptography to preven counterfeiting and fradulent transactions\".  Merriam-Webster also provides an example, \"Virtual currency bitcoin hit the mainstream in 2014. Bitcoin ATMs started springing up all over the world … , allowing people to exchange cash for the cryptocurrency, a secure digital payment outside of conventional financial institutions. —Brenda Poppy\"\n",
    "\n",
    "Wikipedia describes it as \"digita asset designed to work as a medium of exchange that uses strong cryptography to secure financial transactions, control the creation of additional units, and verify the transfer of assets\".\n",
    "\n",
    "These definitions are quite close and from what I understand its a digital currency that is massively unregulated.  Bitcoin, which was first released as open-source software in 2009, is the most well-known.  Wikipedia says since then over 4,000 alterative coins have been created.\n",
    "\n",
    "Ultimately, I'm very curious to explore this dataset and learn more about how the crypto currency market works and what trends are present.\n"
   ]
  },
  {
   "cell_type": "markdown",
   "metadata": {},
   "source": [
    "### Information about Data Collection"
   ]
  },
  {
   "cell_type": "markdown",
   "metadata": {},
   "source": [
    "##### Who Collected the Data"
   ]
  },
  {
   "cell_type": "markdown",
   "metadata": {},
   "source": [
    "It does not clearly state who collected the data on the Kaggle website, but context leads me to believe that Jesse Vent did the collection himself.  He has release several versions on Kaggle which leads me to believe that he at least is managing the data himself, if not collecting it or scraping it from somewhere."
   ]
  },
  {
   "cell_type": "markdown",
   "metadata": {},
   "source": [
    "#### When the data was collected"
   ]
  },
  {
   "cell_type": "code",
   "execution_count": null,
   "metadata": {},
   "outputs": [],
   "source": []
  },
  {
   "cell_type": "markdown",
   "metadata": {},
   "source": [
    "#### How the data was collected"
   ]
  },
  {
   "cell_type": "code",
   "execution_count": null,
   "metadata": {},
   "outputs": [],
   "source": []
  },
  {
   "cell_type": "markdown",
   "metadata": {},
   "source": [
    "#### Any implications this may have on analysis"
   ]
  },
  {
   "cell_type": "code",
   "execution_count": null,
   "metadata": {},
   "outputs": [],
   "source": []
  },
  {
   "cell_type": "markdown",
   "metadata": {},
   "source": [
    "## Exploratory Analysis of the Data"
   ]
  },
  {
   "cell_type": "code",
   "execution_count": null,
   "metadata": {},
   "outputs": [],
   "source": []
  }
 ],
 "metadata": {
  "kernelspec": {
   "display_name": "Python 3",
   "language": "python",
   "name": "python3"
  },
  "language_info": {
   "codemirror_mode": {
    "name": "ipython",
    "version": 3
   },
   "file_extension": ".py",
   "mimetype": "text/x-python",
   "name": "python",
   "nbconvert_exporter": "python",
   "pygments_lexer": "ipython3",
   "version": "3.6.4"
  }
 },
 "nbformat": 4,
 "nbformat_minor": 2
}
