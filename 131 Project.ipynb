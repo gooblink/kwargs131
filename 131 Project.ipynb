{
 "cells": [
  {
   "cell_type": "markdown",
   "metadata": {},
   "source": [
    "# 131  Final Project\n",
    "## Dataset:  Crypto Currency from Kaggle\n",
    "### By Carolanne Link and Vileena Koneru"
   ]
  },
  {
   "cell_type": "markdown",
   "metadata": {},
   "source": [
    "#### Import the CSV "
   ]
  },
  {
   "cell_type": "code",
   "execution_count": 7,
   "metadata": {},
   "outputs": [],
   "source": [
    "import pandas as pd\n",
    "import matplotlib.pyplot as plt\n",
    "\n",
    "cc =pd.read_csv('~/Documents/UCLA/Academics/2018 Spring/Stats 131/crypto-markets.csv')"
   ]
  },
  {
   "cell_type": "markdown",
   "metadata": {},
   "source": [
    "#### View Head"
   ]
  },
  {
   "cell_type": "code",
   "execution_count": 8,
   "metadata": {},
   "outputs": [
    {
     "name": "stdout",
     "output_type": "stream",
     "text": [
      "      slug symbol     name        date  ranknow    open    high     low  \\\n",
      "0  bitcoin    BTC  Bitcoin  2013-04-28        1  135.30  135.98  132.10   \n",
      "1  bitcoin    BTC  Bitcoin  2013-04-29        1  134.44  147.49  134.00   \n",
      "2  bitcoin    BTC  Bitcoin  2013-04-30        1  144.00  146.93  134.05   \n",
      "3  bitcoin    BTC  Bitcoin  2013-05-01        1  139.00  139.89  107.72   \n",
      "4  bitcoin    BTC  Bitcoin  2013-05-02        1  116.38  125.60   92.28   \n",
      "\n",
      "    close  volume        market  close_ratio  spread  \n",
      "0  134.21     0.0  1.500520e+09       0.5438    3.88  \n",
      "1  144.54     0.0  1.491160e+09       0.7813   13.49  \n",
      "2  139.00     0.0  1.597780e+09       0.3843   12.88  \n",
      "3  116.99     0.0  1.542820e+09       0.2882   32.17  \n",
      "4  105.21     0.0  1.292190e+09       0.3881   33.32  \n"
     ]
    }
   ],
   "source": [
    "print(cc.head())"
   ]
  },
  {
   "cell_type": "markdown",
   "metadata": {},
   "source": [
    "## Context and Description of the Data"
   ]
  },
  {
   "cell_type": "markdown",
   "metadata": {},
   "source": [
    "#### Background information on the subject and field of study"
   ]
  },
  {
   "cell_type": "markdown",
   "metadata": {},
   "source": [
    "This dataset came from Kaggle.  The user that it belongs to is listed as Jesse Vent or \"jvent\".  In the About Me section of his profile it says \"Senior data analyst and machine learning enthusiast, working on large scale public service ICT projects\".  It also says he's from Adelaide, Australia and that his preferred languages are R \"and a little python\".\n",
    "\n",
    "I don't know much about crypto-currency and therefore I was intrigued to explore the dataset.  Therefore, I did some background research.  \n",
    "\n",
    "For starters, cryptocurrencies in Merriam-Webster Dictionary is defined as  \"any form of currency that only exists digitally, that usually has no central issuing or regulating authority but instead uses a decentralized system to record transactions and manage the issuance of new units, and that relies on cryptography to preven counterfeiting and fradulent transactions\".  Merriam-Webster also provides an example, \"Virtual currency bitcoin hit the mainstream in 2014. Bitcoin ATMs started springing up all over the world … , allowing people to exchange cash for the cryptocurrency, a secure digital payment outside of conventional financial institutions. —Brenda Poppy\"\n",
    "\n",
    "Wikipedia describes it as \"digita asset designed to work as a medium of exchange that uses strong cryptography to secure financial transactions, control the creation of additional units, and verify the transfer of assets\".\n",
    "\n",
    "These definitions are quite close and from what I understand its a digital currency that is massively unregulated.  Bitcoin, which was first released as open-source software in 2009, is the most well-known.  Wikipedia says since then over 4,000 alterative coins have been created.\n",
    "\n",
    "Ultimately, I'm very curious to explore this dataset and learn more about how the cryptocurrency market works and what trends are present.\n"
   ]
  },
  {
   "cell_type": "markdown",
   "metadata": {},
   "source": [
    "### Information about Data Collection"
   ]
  },
  {
   "cell_type": "markdown",
   "metadata": {},
   "source": [
    "##### Who Collected the Data"
   ]
  },
  {
   "cell_type": "markdown",
   "metadata": {},
   "source": [
    "It does not clearly state who collected the data on the Kaggle website, but context leads me to believe that Jesse Vent did the collection himself.  He has release several versions on Kaggle which leads me to believe that he at least is managing the data himself, if not collecting it or scraping it from somewhere."
   ]
  },
  {
   "cell_type": "markdown",
   "metadata": {},
   "source": [
    "#### When the data was collected"
   ]
  },
  {
   "cell_type": "markdown",
   "metadata": {},
   "source": [
    "The data has no clear collection date.  From the context, the collection seems to be ongoing and Jesse manages it periodically for this dataset.\n",
    "\n",
    "However, Jesse updates the versions regularly and the first version **(Version 1)** was uploaded 10 month ago.  \n",
    "\n",
    "**Version 2** was uploaded 9 months ago with the note \"Historical cryptocurrency market data and token prices for all tokens:  486006 rows of data, 1104 different crypto currencies, and Refreshed data to include 54 new coins up until: 10 September 2017\".\n",
    "\n",
    "**Version 3** was uploaded 9 months ago with the note \"Updated data up until 19th September 2017\".\n",
    "\n",
    "**Version 4** was uploaded 8 months ago with the note \"Cryptocurrency data includes up to 30/09/2017\".\n",
    "\n",
    "**Version 5** was uploaded 8 months ago with the note \"Fixed symbols/name and no longer rounding fields to 5 decimals\".\n",
    "\n",
    "**Version 6** was uploaded 7 months ago with the note \"Updates to handle names better and include current rank\".\n",
    "\n",
    "**Version 7** was uploaded 6 months ago with the note \"Huge overhaul of formatting and conversions\".\n",
    "\n",
    "**Version 8** was uploaded 5 months ago with the note \"Fixed duplicates, new variables, refreshed data\".\n",
    "\n",
    "**Version 9** was uploaded 5 months ago with the note \"Updated Data as of 11/01/2017\".\n",
    "\n",
    "**Version 10** was uploaded 4 months ago with the note \"Refreshed as of 28 Jan\".\n",
    "\n",
    "**Version 11** was uploaded 4 months ago with the note \"updated data\".\n",
    "\n",
    "**Version 12** was uploaded 4 months ago with the note \"Updated data as of 22 Feb 2018\".\n",
    "\n",
    "**Version 13** was uploaded 2 months ago with the note \"Data current as of 27/03/2018\".\n",
    "\n",
    "**Version 14** was uploaded 18 days ago with the note \"latest update 21 May\".\n",
    "\n",
    "**Version 15** was uploaded 18 days ago with the note \"Data refreshed\".\n",
    "\n",
    "**Version 16** was uploaded 18 days ago with the note \"Data refresh 080618\".\n",
    "\n",
    "\n"
   ]
  },
  {
   "cell_type": "markdown",
   "metadata": {},
   "source": [
    "#### How the data was collected"
   ]
  },
  {
   "cell_type": "markdown",
   "metadata": {},
   "source": [
    "It is not clearly stated how the data was collected.  From the context and the notes it is clear that Jesse Vent is keeping up with a daily updated source or database of the cryptocurrency statistics.  From the context of the variables, we know that data is taken every day at both opening and closing of the market.  Over the course of each day the high and low are also recorded.  This means that there is constant monitoring and data collection of the values throughout the day.  They are probably published somewhere at the close of each day recapping the day's changes.  I assume Jesse Vent collects and/or scrapes this data on what seems to be a pretty regular basis to keep this dataset up-to-date and properly organized."
   ]
  },
  {
   "cell_type": "markdown",
   "metadata": {},
   "source": [
    "#### Any implications this may have on analysis"
   ]
  },
  {
   "cell_type": "markdown",
   "metadata": {},
   "source": [
    "Since this is real data coming from real cryptocurrency market values, the data is very applicable to everyday life.  For those who invest in this, the trends of this data could be a very important part of their decisions and investment choices."
   ]
  },
  {
   "cell_type": "markdown",
   "metadata": {},
   "source": [
    "## Exploratory Analysis of the Data"
   ]
  },
  {
   "cell_type": "code",
   "execution_count": 9,
   "metadata": {},
   "outputs": [
    {
     "data": {
      "text/plain": [
       "count       785024\n",
       "unique        1643\n",
       "top       HempCoin\n",
       "freq          2221\n",
       "Name: name, dtype: object"
      ]
     },
     "execution_count": 9,
     "metadata": {},
     "output_type": "execute_result"
    }
   ],
   "source": [
    "#How many unique cryptocurrencies are featured here? It claims \"all\" are featured.\n",
    "cc['name'].describe()\n",
    "#There are 1591 unique names of currencies with the most frequently represented currency being HempCoin."
   ]
  },
  {
   "cell_type": "code",
   "execution_count": 10,
   "metadata": {},
   "outputs": [
    {
     "data": {
      "text/plain": [
       "count    7.850240e+05\n",
       "mean     1.252368e+02\n",
       "std      7.379191e+03\n",
       "min      0.000000e+00\n",
       "25%      0.000000e+00\n",
       "50%      0.000000e+00\n",
       "75%      4.000000e-02\n",
       "max      1.770563e+06\n",
       "Name: spread, dtype: float64"
      ]
     },
     "execution_count": 10,
     "metadata": {},
     "output_type": "execute_result"
    }
   ],
   "source": [
    "cc['slug'].describe()\n",
    "cc['open'].describe()\n",
    "cc['spread'].describe()"
   ]
  },
  {
   "cell_type": "code",
   "execution_count": 15,
   "metadata": {},
   "outputs": [
    {
     "data": {
      "image/png": "[encoded data removed]",
      "text/plain": [
       "<matplotlib.figure.Figure at 0x11376b240>"
      ]
     },
     "metadata": {},
     "output_type": "display_data"
    }
   ],
   "source": [
    "#A scatterplot showing the relationship between the opening price of a coin and it's highest value\n",
    "plt.scatter(cc['open'],cc['high'])\n",
    "plt.title(\"Open vs High Price\") #Change x and y axis scale\n",
    "plt.show()"
   ]
  },
  {
   "cell_type": "code",
   "execution_count": 16,
   "metadata": {},
   "outputs": [
    {
     "data": {
      "image/png": "[encoded data removed]",
      "text/plain": [
       "<matplotlib.figure.Figure at 0x1165c0c18>"
      ]
     },
     "metadata": {},
     "output_type": "display_data"
    }
   ],
   "source": [
    "#A scatterplot showing \n",
    "plt.scatter(cc['high'],cc['close'])\n",
    "plt.title(\"High vs Closing Price\")\n",
    "plt.xlabel(\"High Value\") #Change x and y axis scale\n",
    "plt.ylabel(\"Close Value\")\n",
    "plt.show()"
   ]
  },
  {
   "cell_type": "code",
   "execution_count": null,
   "metadata": {},
   "outputs": [],
   "source": []
  }
 ],
 "metadata": {
  "kernelspec": {
   "display_name": "Python 3",
   "language": "python",
   "name": "python3"
  },
  "language_info": {
   "codemirror_mode": {
    "name": "ipython",
    "version": 3
   },
   "file_extension": ".py",
   "mimetype": "text/x-python",
   "name": "python",
   "nbconvert_exporter": "python",
   "pygments_lexer": "ipython3",
   "version": "3.6.4"
  }
 },
 "nbformat": 4,
 "nbformat_minor": 2
}
