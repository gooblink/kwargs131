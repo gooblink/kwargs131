{
 "cells": [
  {
   "cell_type": "markdown",
   "metadata": {},
   "source": [
    "# 131  Final Project\n",
    "## Dataset:  Crypto Currency from Kaggle\n",
    "### By Carolanne Link and Vileena Koneru"
   ]
  },
  {
   "cell_type": "markdown",
   "metadata": {},
   "source": [
    "#### Import the CSV "
   ]
  },
  {
   "cell_type": "code",
   "execution_count": 65,
   "metadata": {},
   "outputs": [],
   "source": [
    "import numpy as np\n",
    "import pandas as pd\n",
    "import matplotlib.pyplot as plt\n",
    "import pylab\n",
    "import scipy.stats as stats\n",
    "import statsmodels.api as sm\n",
    "from sklearn import linear_model\n",
    "from sklearn.model_selection import train_test_split\n",
    "from sklearn.model_selection import cross_val_score\n",
    "import seaborn as sns\n",
    "from datetime import datetime\n",
    "from pandas import Series\n",
    "from matplotlib import pyplot\n",
    "from statsmodels.tsa.ar_model import AR\n",
    "from sklearn.metrics import mean_squared_error\n",
    "dateparse = lambda dates: pd.datetime.strptime(dates, '%Y-%m-%d')\n",
    "cc = pd.read_csv('~/Documents/UCLA/Academics/2018 Spring/Stats 131/crypto-markets.csv', \n",
    "                   parse_dates=['date'], index_col='date',date_parser=dateparse)"
   ]
  },
  {
   "cell_type": "markdown",
   "metadata": {},
   "source": [
    "#### View Head"
   ]
  },
  {
   "cell_type": "code",
   "execution_count": 2,
   "metadata": {},
   "outputs": [
    {
     "name": "stdout",
     "output_type": "stream",
     "text": [
      "               slug symbol     name  ranknow    open    high     low   close  \\\n",
      "date                                                                           \n",
      "2013-04-28  bitcoin    BTC  Bitcoin        1  135.30  135.98  132.10  134.21   \n",
      "2013-04-29  bitcoin    BTC  Bitcoin        1  134.44  147.49  134.00  144.54   \n",
      "2013-04-30  bitcoin    BTC  Bitcoin        1  144.00  146.93  134.05  139.00   \n",
      "2013-05-01  bitcoin    BTC  Bitcoin        1  139.00  139.89  107.72  116.99   \n",
      "2013-05-02  bitcoin    BTC  Bitcoin        1  116.38  125.60   92.28  105.21   \n",
      "\n",
      "            volume        market  close_ratio  spread  \n",
      "date                                                   \n",
      "2013-04-28     0.0  1.500520e+09       0.5438    3.88  \n",
      "2013-04-29     0.0  1.491160e+09       0.7813   13.49  \n",
      "2013-04-30     0.0  1.597780e+09       0.3843   12.88  \n",
      "2013-05-01     0.0  1.542820e+09       0.2882   32.17  \n",
      "2013-05-02     0.0  1.292190e+09       0.3881   33.32  \n"
     ]
    }
   ],
   "source": [
    "print(cc.head())"
   ]
  },
  {
   "cell_type": "markdown",
   "metadata": {},
   "source": [
    "## Context and Description of the Data"
   ]
  },
  {
   "cell_type": "markdown",
   "metadata": {},
   "source": [
    "#### Background information on the subject and field of study"
   ]
  },
  {
   "cell_type": "markdown",
   "metadata": {},
   "source": [
    "This dataset came from Kaggle.  The user that it belongs to is listed as Jesse Vent or \"jvent\".  In the About Me section of his profile it says \"Senior data analyst and machine learning enthusiast, working on large scale public service ICT projects\".  It also says he's from Adelaide, Australia and that his preferred languages are R \"and a little python\".\n",
    "\n",
    "I don't know much about crypto-currency and therefore I was intrigued to explore the dataset.  Therefore, I did some background research.  \n",
    "\n",
    "For starters, cryptocurrencies in Merriam-Webster Dictionary is defined as  \"any form of currency that only exists digitally, that usually has no central issuing or regulating authority but instead uses a decentralized system to record transactions and manage the issuance of new units, and that relies on cryptography to preven counterfeiting and fradulent transactions\".  Merriam-Webster also provides an example, \"Virtual currency bitcoin hit the mainstream in 2014. Bitcoin ATMs started springing up all over the world … , allowing people to exchange cash for the cryptocurrency, a secure digital payment outside of conventional financial institutions. —Brenda Poppy\"\n",
    "\n",
    "Wikipedia describes it as \"digita asset designed to work as a medium of exchange that uses strong cryptography to secure financial transactions, control the creation of additional units, and verify the transfer of assets\".\n",
    "\n",
    "These definitions are quite close and from what I understand its a digital currency that is massively unregulated.  Bitcoin, which was first released as open-source software in 2009, is the most well-known.  Wikipedia says since then over 4,000 alterative coins have been created.\n",
    "\n",
    "Ultimately, I'm very curious to explore this dataset and learn more about how the cryptocurrency market works and what trends are present.\n",
    "\n",
    "Cryptocurrency is enabled by the use of Blockchain, a decentralized record of transactions. A transaction is complete when it is permanently and unalterably added to the blockchain. Of the various types of cryptocurrency, Bitcoin is the most popular coin. Cryptocurrency is exciting to many because a decentralized system would obviate the need for a central clearing authority, such as a bank. Suggested applications of this technology are in voting electronically, keeping medical patients' information secure, managing fractional ownership of automobiles, financial services and more. \n",
    "\n",
    "However, cryptocurrency is a highly volatile form of currency with many financial experts claiming that it has no intrinsic value and is unsuitable for investments, citing that it is merely a speculative market. The Bitcoin crash of December 17, 2017 followed speculation that it would reach 142,000 USD - when it in fact fell steadily and reached 6500 USD this year. It is for this reason and the potential that people see in bitcoin that it is useful to predict where bitcoin will go in terms of future value. Speculative market or not, being able to predict the price of cryptocurrenncy is of advantage. \n",
    "\n",
    "Aside from the name and slug of the coin, this dataset is comprised of mostly numeric variables with the exception being the date. We can attempt predictions of the future value as well as observe past trends.\n"
   ]
  },
  {
   "cell_type": "markdown",
   "metadata": {},
   "source": [
    "\n",
    "### Information about Data Collection"
   ]
  },
  {
   "cell_type": "markdown",
   "metadata": {},
   "source": [
    "##### Who Collected the Data"
   ]
  },
  {
   "cell_type": "markdown",
   "metadata": {},
   "source": [
    "The Kaggle user who posted and manages the data gives credit to the website CoinMarketCap for providing the data."
   ]
  },
  {
   "cell_type": "markdown",
   "metadata": {},
   "source": [
    "#### When the data was collected"
   ]
  },
  {
   "cell_type": "markdown",
   "metadata": {},
   "source": [
    "The data has no clear collection date.  From the context, the collection seems to be ongoing and Jesse manages it periodically for this dataset.\n",
    "\n",
    "However, Jesse updates the versions regularly and the first version **(Version 1)** was uploaded 10 month ago.  \n",
    "\n",
    "**Version 2** was uploaded 9 months ago with the note \"Historical cryptocurrency market data and token prices for all tokens:  486006 rows of data, 1104 different crypto currencies, and Refreshed data to include 54 new coins up until: 10 September 2017\".\n",
    "\n",
    "**Version 3** was uploaded 9 months ago with the note \"Updated data up until 19th September 2017\".\n",
    "\n",
    "**Version 4** was uploaded 8 months ago with the note \"Cryptocurrency data includes up to 30/09/2017\".\n",
    "\n",
    "**Version 5** was uploaded 8 months ago with the note \"Fixed symbols/name and no longer rounding fields to 5 decimals\".\n",
    "\n",
    "**Version 6** was uploaded 7 months ago with the note \"Updates to handle names better and include current rank\".\n",
    "\n",
    "**Version 7** was uploaded 6 months ago with the note \"Huge overhaul of formatting and conversions\".\n",
    "\n",
    "**Version 8** was uploaded 5 months ago with the note \"Fixed duplicates, new variables, refreshed data\".\n",
    "\n",
    "**Version 9** was uploaded 5 months ago with the note \"Updated Data as of 11/01/2017\".\n",
    "\n",
    "**Version 10** was uploaded 4 months ago with the note \"Refreshed as of 28 Jan\".\n",
    "\n",
    "**Version 11** was uploaded 4 months ago with the note \"updated data\".\n",
    "\n",
    "**Version 12** was uploaded 4 months ago with the note \"Updated data as of 22 Feb 2018\".\n",
    "\n",
    "**Version 13** was uploaded 2 months ago with the note \"Data current as of 27/03/2018\".\n",
    "\n",
    "**Version 14** was uploaded 18 days ago with the note \"latest update 21 May\".\n",
    "\n",
    "**Version 15** was uploaded 18 days ago with the note \"Data refreshed\".\n",
    "\n",
    "**Version 16** was uploaded 18 days ago with the note \"Data refresh 080618\".\n",
    "\n",
    "Upon looking at the date column, we see that the data was collected in real-time from April 2013 to June 2018.\n",
    "\n"
   ]
  },
  {
   "cell_type": "markdown",
   "metadata": {},
   "source": [
    "#### How the data was collected"
   ]
  },
  {
   "cell_type": "markdown",
   "metadata": {},
   "source": [
    "It is not clearly stated how the data was collected.  Neither Jesse Vent or the MarketCoinCap website specifies collection methods.  From the context and the notes it is clear that MarketCoinCap is a daily updated source of the cryptocurrency statistics.  From the context of the variables, we know that data is taken every day at both opening and closing of the market.  Over the course of each day the high and low are also recorded.  This means that there is constant monitoring and data collection of the values throughout the day.  They are probably published at the close of each day recapping the day's changes.  Jesse Vent scrapes this data on what seems to be a pretty regular basis to keep this dataset up-to-date and properly organized."
   ]
  },
  {
   "cell_type": "markdown",
   "metadata": {},
   "source": [
    "#### Any implications this may have on analysis"
   ]
  },
  {
   "cell_type": "markdown",
   "metadata": {},
   "source": [
    "Since this is real data coming from real cryptocurrency market values, the data is very applicable to everyday life.  For those who invest in this, the trends of this data could be a very important part of their decisions and investment choices."
   ]
  },
  {
   "cell_type": "markdown",
   "metadata": {},
   "source": [
    "## Exploratory Analysis of the Data"
   ]
  },
  {
   "cell_type": "markdown",
   "metadata": {},
   "source": [
    "Let's look at the info for the whole dataset."
   ]
  },
  {
   "cell_type": "code",
   "execution_count": 3,
   "metadata": {},
   "outputs": [
    {
     "name": "stdout",
     "output_type": "stream",
     "text": [
      "<class 'pandas.core.frame.DataFrame'>\n",
      "DatetimeIndex: 785024 entries, 2013-04-28 to 2018-05-24\n",
      "Data columns (total 12 columns):\n",
      "slug           785024 non-null object\n",
      "symbol         785024 non-null object\n",
      "name           785024 non-null object\n",
      "ranknow        785024 non-null int64\n",
      "open           785024 non-null float64\n",
      "high           785024 non-null float64\n",
      "low            785024 non-null float64\n",
      "close          785024 non-null float64\n",
      "volume         785024 non-null float64\n",
      "market         785024 non-null float64\n",
      "close_ratio    785024 non-null float64\n",
      "spread         785024 non-null float64\n",
      "dtypes: float64(8), int64(1), object(3)\n",
      "memory usage: 77.9+ MB\n"
     ]
    }
   ],
   "source": [
    "cc.info()"
   ]
  },
  {
   "cell_type": "markdown",
   "metadata": {},
   "source": [
    "Let's first explore each variable and its distribution.\n",
    "How many unique cryptocurrencies are featured here? It claims \"all\" are featured."
   ]
  },
  {
   "cell_type": "code",
   "execution_count": 4,
   "metadata": {},
   "outputs": [
    {
     "data": {
      "text/plain": [
       "count       785024\n",
       "unique        1643\n",
       "top       HempCoin\n",
       "freq          2221\n",
       "Name: name, dtype: object"
      ]
     },
     "execution_count": 4,
     "metadata": {},
     "output_type": "execute_result"
    }
   ],
   "source": [
    "cc['name'].describe()"
   ]
  },
  {
   "cell_type": "markdown",
   "metadata": {},
   "source": [
    "There are 1643 unique names of currencies with the most frequently represented currency being HempCoin."
   ]
  },
  {
   "cell_type": "code",
   "execution_count": 5,
   "metadata": {},
   "outputs": [
    {
     "name": "stdout",
     "output_type": "stream",
     "text": [
      "count       785024\n",
      "unique        1644\n",
      "top       litecoin\n",
      "freq          1866\n",
      "Name: slug, dtype: object\n",
      "count     785024\n",
      "unique      1605\n",
      "top          NET\n",
      "freq        1955\n",
      "Name: symbol, dtype: object\n"
     ]
    }
   ],
   "source": [
    "print(cc['slug'].describe())\n",
    "print(cc['symbol'].describe())"
   ]
  },
  {
   "cell_type": "markdown",
   "metadata": {},
   "source": [
    "An article from the New York Times explains, \"The term slug derives from the days of hot-metal printing, when printers set type by hand in a small form called a stick. Later huge Linotype machines turned molten lead into casts of letters, lines, sentences and paragraphs. A line of lead in both eras was known as a slug.\" In news articles, they became an abbreviation for topics.  They could be acronyms or just abbreviated words.  The NY Times gave a few examples, BRIT for Britain and SCOTUS for Supreme Court of the United States.\n",
    "\n",
    "In this case, a slug is the short name for a cryptocurrency, there are 1644 slugs for 1643 different coins (name), which means that there is 1 more slug than there are names. The most frequently featured slug is bitcoin. "
   ]
  },
  {
   "cell_type": "code",
   "execution_count": 6,
   "metadata": {},
   "outputs": [
    {
     "name": "stdout",
     "output_type": "stream",
     "text": [
      "count       785024\n",
      "unique        1643\n",
      "top       HempCoin\n",
      "freq          2221\n",
      "Name: name, dtype: object\n"
     ]
    }
   ],
   "source": [
    "print(cc['name'].describe())"
   ]
  },
  {
   "cell_type": "markdown",
   "metadata": {},
   "source": [
    "There are 1605 different symbols, which means that some symbols are used for multiple slugs and names.  The top most frequented symbol is NET."
   ]
  },
  {
   "cell_type": "markdown",
   "metadata": {},
   "source": [
    "Next, we'll convert the date column to a datetime object and look at the date column."
   ]
  },
  {
   "cell_type": "code",
   "execution_count": 7,
   "metadata": {
    "scrolled": true
   },
   "outputs": [
    {
     "data": {
      "text/plain": [
       "DatetimeIndex(['2013-04-28', '2013-04-29', '2013-04-30', '2013-05-01',\n",
       "               '2013-05-02', '2013-05-03', '2013-05-04', '2013-05-05',\n",
       "               '2013-05-06', '2013-05-07',\n",
       "               ...\n",
       "               '2018-05-15', '2018-05-16', '2018-05-17', '2018-05-18',\n",
       "               '2018-05-19', '2018-05-20', '2018-05-21', '2018-05-22',\n",
       "               '2018-05-23', '2018-05-24'],\n",
       "              dtype='datetime64[ns]', name='date', length=785024, freq=None)"
      ]
     },
     "execution_count": 7,
     "metadata": {},
     "output_type": "execute_result"
    }
   ],
   "source": [
    "cc.index"
   ]
  },
  {
   "cell_type": "markdown",
   "metadata": {},
   "source": [
    "The date column ranges from April 28, 2013 to June 6, 2018. The top most frequent date is May 24, 2018."
   ]
  },
  {
   "cell_type": "markdown",
   "metadata": {},
   "source": [
    "Let's explore the datetime object more thoroughly later on."
   ]
  },
  {
   "cell_type": "markdown",
   "metadata": {},
   "source": [
    "Next,we look at the ranknow column."
   ]
  },
  {
   "cell_type": "code",
   "execution_count": 8,
   "metadata": {},
   "outputs": [
    {
     "data": {
      "text/plain": [
       "ranknow  slug               \n",
       "1        bitcoin                3.078214e+10\n",
       "2        ethereum               1.892582e+10\n",
       "3        ripple                 5.168853e+09\n",
       "4        bitcoin-cash           1.845137e+10\n",
       "5        eos                    4.189334e+09\n",
       "6        litecoin               1.429485e+09\n",
       "7        stellar                9.100688e+08\n",
       "8        cardano                7.105550e+09\n",
       "9        iota                   4.006688e+09\n",
       "10       tron                   2.587292e+09\n",
       "11       neo                    1.951882e+09\n",
       "12       monero                 7.244444e+08\n",
       "13       dash                   8.933909e+08\n",
       "14       tether                 3.723972e+08\n",
       "15       nem                    1.167381e+09\n",
       "16       vechain                1.146229e+09\n",
       "17       binance-coin           7.443559e+08\n",
       "18       ethereum-classic       1.176534e+09\n",
       "19       ontology               5.543627e+08\n",
       "20       qtum                   1.320165e+09\n",
       "21       omisego                1.143071e+09\n",
       "22       bytecoin-bcn           1.784239e+08\n",
       "23       icon                   1.259400e+09\n",
       "24       zilliqa                5.340809e+08\n",
       "25       zcash                  5.742421e+08\n",
       "26       lisk                   5.489260e+08\n",
       "27       aeternity              2.851382e+08\n",
       "28       bitcoin-gold           2.057248e+09\n",
       "29       decred                 1.655788e+08\n",
       "30       0x                     3.752628e+08\n",
       "                                    ...     \n",
       "1615     deltacredits           1.369835e+03\n",
       "1616     x2                     0.000000e+00\n",
       "1617     operand                0.000000e+00\n",
       "1618     darklisk               0.000000e+00\n",
       "1619     richcoin               0.000000e+00\n",
       "1620     prismchain             0.000000e+00\n",
       "1621     pokecoin               0.000000e+00\n",
       "1622     todaycoin              0.000000e+00\n",
       "1623     sportscoin             0.000000e+00\n",
       "1624     omicron                0.000000e+00\n",
       "1625     royalcoin              0.000000e+00\n",
       "1626     lepen                  0.000000e+00\n",
       "1627     kashhcoin              0.000000e+00\n",
       "1628     ur                     0.000000e+00\n",
       "1629     fazzcoin               0.000000e+00\n",
       "1630     bitok                  0.000000e+00\n",
       "1631     aseancoin              0.000000e+00\n",
       "1632     ox-fina                0.000000e+00\n",
       "1633     sigmacoin              0.000000e+00\n",
       "1634     dutch-coin             0.000000e+00\n",
       "1635     fapcoin                0.000000e+00\n",
       "1636     plexcoin               0.000000e+00\n",
       "1637     madcoin                3.050317e+05\n",
       "1638     titanium-blockchain    0.000000e+00\n",
       "1639     vcash                  3.384252e+06\n",
       "1640     ereal                  9.210886e+04\n",
       "1641     davorcoin              0.000000e+00\n",
       "1643     entcash                0.000000e+00\n",
       "1644     jingtum-tech           0.000000e+00\n",
       "1645     aston                  0.000000e+00\n",
       "Name: market, Length: 1644, dtype: float64"
      ]
     },
     "execution_count": 8,
     "metadata": {},
     "output_type": "execute_result"
    }
   ],
   "source": [
    "rank = cc.groupby(['ranknow', 'slug'])['market'].mean()\n",
    "rank"
   ]
  },
  {
   "cell_type": "markdown",
   "metadata": {},
   "source": [
    "From looking at the MarketCoinCap website,we see that the currencies are ranked based upon \"Market Cap\" value.\n",
    "According to Investopedia, \"market cap\" or Market Capitalization is the total dollar market value of a company's outstanding shares...it is calculated by multiplying a company's shares outstanding by the current market price of one share.  The investment community uses this figure to determine a company's size, as opposed to using sales or total asset figures.  Using market capitalization to show the size of a company is important because company size is a basic determinant of various characteristics in which investors are interested, including risk.\"  It also provides the example calculation of a company with 20 million shares selling at 100 dollars a share would have a market cap of 2 billion dollars.  \n",
    "Therefore, it comes as no surprise that bitcoin is ranked \\#1, it is the most popular crypto-currency.  "
   ]
  },
  {
   "cell_type": "code",
   "execution_count": 9,
   "metadata": {},
   "outputs": [
    {
     "name": "stdout",
     "output_type": "stream",
     "text": [
      "count    785024.000000\n",
      "mean        842.650876\n",
      "std         452.624872\n",
      "min           1.000000\n",
      "25%         472.000000\n",
      "50%         910.000000\n",
      "75%        1185.000000\n",
      "max        1645.000000\n",
      "Name: ranknow, dtype: float64\n"
     ]
    }
   ],
   "source": [
    "print(cc['ranknow'].describe())"
   ]
  },
  {
   "cell_type": "markdown",
   "metadata": {},
   "source": [
    "The ranknow column has a minimum of 1 and a maximum of 1645.  "
   ]
  },
  {
   "cell_type": "code",
   "execution_count": 10,
   "metadata": {},
   "outputs": [
    {
     "name": "stdout",
     "output_type": "stream",
     "text": [
      "count    7.850240e+05\n",
      "mean     3.550859e+02\n",
      "std      1.403939e+04\n",
      "min      2.500000e-09\n",
      "25%      1.117000e-03\n",
      "50%      1.723150e-02\n",
      "75%      2.159187e-01\n",
      "max      2.298390e+06\n",
      "Name: open, dtype: float64\n",
      "count    7.850240e+05\n",
      "mean     1.252368e+02\n",
      "std      7.379191e+03\n",
      "min      0.000000e+00\n",
      "25%      0.000000e+00\n",
      "50%      0.000000e+00\n",
      "75%      4.000000e-02\n",
      "max      1.770563e+06\n",
      "Name: spread, dtype: float64\n"
     ]
    }
   ],
   "source": [
    "print(cc['open'].describe())\n",
    "print(cc['spread'].describe())"
   ]
  },
  {
   "cell_type": "markdown",
   "metadata": {},
   "source": [
    "From the summary we see opening prices are highly skewed to the right.  Open prices are the opening value of each coin at the beginning of the market's day.  The maximum is 2298390 and the minimum is close to 0 (2.5x10^-9) , with a mean of 355.0859 and a huge standard deviation of 14039.39. The 50% quantile is at 0.01723150."
   ]
  },
  {
   "cell_type": "markdown",
   "metadata": {},
   "source": [
    "The spread, according to Investopedia is \"the difference between the bid and the ask price of a security or asset.  It can also refer to an options position established by purchasing one option and selling another option of the same class but of a different series.\"  Jesse Vent defines this column as \"Spread is the $USD difference between the high and low values for the day\".  For our data, the spread is also highly skewed to the right. The minimum is 0 and the maximum is 1770563, with a mean of 125.2368 and a standard deviation of 7379.191.  The 50% quantile is 0."
   ]
  },
  {
   "cell_type": "markdown",
   "metadata": {},
   "source": [
    "To get a better idea of the distribution, we took the log."
   ]
  },
  {
   "cell_type": "code",
   "execution_count": 139,
   "metadata": {
    "scrolled": true
   },
   "outputs": [
    {
     "data": {
      "image/png": "[encoded data removed]",
      "text/plain": [
       "<matplotlib.figure.Figure at 0x1c1caf9470>"
      ]
     },
     "metadata": {},
     "output_type": "display_data"
    }
   ],
   "source": [
    "cc['logopen'] = np.log(cc['open'])\n",
    "plt.hist(cc['logopen'])\n",
    "plt.xlabel(\"Log Opening Price\")\n",
    "plt.ylabel(\"Freq\")\n",
    "plt.show()"
   ]
  },
  {
   "cell_type": "markdown",
   "metadata": {},
   "source": [
    "Plotting a histogram of the log-transformed values created a plot that \n",
    "resembles a normal distribution."
   ]
  },
  {
   "cell_type": "markdown",
   "metadata": {},
   "source": [
    "We created a log transformed plot for the spread as well."
   ]
  },
  {
   "cell_type": "code",
   "execution_count": 138,
   "metadata": {},
   "outputs": [
    {
     "data": {
      "image/png": "[encoded data removed]",
      "text/plain": [
       "<matplotlib.figure.Figure at 0x1c1cbf3d68>"
      ]
     },
     "metadata": {},
     "output_type": "display_data"
    }
   ],
   "source": [
    "cc['logspread'] = np.log1p(cc['spread'])\n",
    "plt.hist(cc['logspread'])\n",
    "plt.xlabel(\"Log Spread\")\n",
    "plt.ylabel(\"Freq\")\n",
    "plt.show()"
   ]
  },
  {
   "cell_type": "markdown",
   "metadata": {},
   "source": [
    "Adding 1 to the 0 values, log-transformed spread is still highly skewed."
   ]
  },
  {
   "cell_type": "markdown",
   "metadata": {},
   "source": [
    "Next, we look at the summary statistics for the high value.  This is the highest value that crypto-currency attains durring the market day.  We're starting to expect all the values to be skewed to the right."
   ]
  },
  {
   "cell_type": "code",
   "execution_count": 70,
   "metadata": {},
   "outputs": [
    {
     "data": {
      "text/plain": [
       "count    7.850240e+05\n",
       "mean     4.233219e+02\n",
       "std      1.733459e+04\n",
       "min      3.200000e-09\n",
       "25%      1.305000e-03\n",
       "50%      1.980350e-02\n",
       "75%      2.424478e-01\n",
       "max      2.926100e+06\n",
       "Name: high, dtype: float64"
      ]
     },
     "execution_count": 70,
     "metadata": {},
     "output_type": "execute_result"
    }
   ],
   "source": [
    "cc.high.describe()"
   ]
  },
  {
   "cell_type": "markdown",
   "metadata": {},
   "source": [
    "The high values are skewed to the right, as expected.  The minimum is close to 0 at (3.2x10^-9) and a maximum of 2926100, with a mean of 423.3219 and a standard deviation of 17334.59.  The 50% quantile is 0.01980350.  We took the log transformation to plot a histogram of the high values."
   ]
  },
  {
   "cell_type": "code",
   "execution_count": 137,
   "metadata": {},
   "outputs": [
    {
     "data": {
      "image/png": "[encoded data removed]",
      "text/plain": [
       "<matplotlib.figure.Figure at 0x1c1be884e0>"
      ]
     },
     "metadata": {},
     "output_type": "display_data"
    }
   ],
   "source": [
    "cc['loghigh']=np.log(cc['high'])\n",
    "plt.hist(cc['loghigh'])\n",
    "plt.ylabel(\"Freq\")\n",
    "plt.xlabel(\"Log High Price\")\n",
    "plt.show()"
   ]
  },
  {
   "cell_type": "markdown",
   "metadata": {},
   "source": [
    "These results look the same as those for the opening values, the log transformation allows for normal behavior."
   ]
  },
  {
   "cell_type": "markdown",
   "metadata": {},
   "source": [
    "Next, we look at the low values.  As the name would imply, this is the lowest value that the crypto-currency attains during the market day."
   ]
  },
  {
   "cell_type": "code",
   "execution_count": 72,
   "metadata": {},
   "outputs": [
    {
     "data": {
      "text/plain": [
       "count    7.850240e+05\n",
       "mean     2.980848e+02\n",
       "std      1.157055e+04\n",
       "min      9.200000e-14\n",
       "25%      9.630000e-04\n",
       "50%      1.511100e-02\n",
       "75%      1.915900e-01\n",
       "max      2.030590e+06\n",
       "Name: low, dtype: float64"
      ]
     },
     "execution_count": 72,
     "metadata": {},
     "output_type": "execute_result"
    }
   ],
   "source": [
    "cc.low.describe()"
   ]
  },
  {
   "cell_type": "markdown",
   "metadata": {},
   "source": [
    "The low points span between 0 and 2030590. The mean is 298.0848 with a standard The span is hugely right skewed with 75% of the values being below 0.19159.\n",
    "\n"
   ]
  },
  {
   "cell_type": "code",
   "execution_count": 136,
   "metadata": {},
   "outputs": [
    {
     "data": {
      "image/png": "[encoded data removed]",
      "text/plain": [
       "<matplotlib.figure.Figure at 0x1c1cb2b0b8>"
      ]
     },
     "metadata": {},
     "output_type": "display_data"
    }
   ],
   "source": [
    "cc['loglow'] = np.log(cc['low'])\n",
    "plt.hist(cc['loglow'])\n",
    "plt.xlabel(\"Log Low Price\")\n",
    "plt.ylabel(\"Freq\")\n",
    "plt.show()"
   ]
  },
  {
   "cell_type": "markdown",
   "metadata": {},
   "source": [
    "The log transform makes the data look somewhat normal, but it doesn't appear as normal as some of the other variables did under this transformation."
   ]
  },
  {
   "cell_type": "markdown",
   "metadata": {},
   "source": [
    "Next, we look at the close variable.  Again, as the name would imply, this is the value at the close of the market day."
   ]
  },
  {
   "cell_type": "code",
   "execution_count": 74,
   "metadata": {},
   "outputs": [
    {
     "data": {
      "text/plain": [
       "count    7.850240e+05\n",
       "mean     3.536499e+02\n",
       "std      1.396510e+04\n",
       "min      0.000000e+00\n",
       "25%      1.119000e-03\n",
       "50%      1.723000e-02\n",
       "75%      2.156592e-01\n",
       "max      2.300740e+06\n",
       "Name: close, dtype: float64"
      ]
     },
     "execution_count": 74,
     "metadata": {},
     "output_type": "execute_result"
    }
   ],
   "source": [
    "cc.close.describe()"
   ]
  },
  {
   "cell_type": "markdown",
   "metadata": {},
   "source": [
    "The close values are between 0 and 2399740.  The mean is 353.6499 with a standard deviation of 13965.10.  The 50% quantile is at 0.01723.\n",
    "\n",
    "We log transform the close values."
   ]
  },
  {
   "cell_type": "code",
   "execution_count": 135,
   "metadata": {},
   "outputs": [
    {
     "data": {
      "image/png": "[encoded data removed]",
      "text/plain": [
       "<matplotlib.figure.Figure at 0x1c1cb1fbe0>"
      ]
     },
     "metadata": {},
     "output_type": "display_data"
    }
   ],
   "source": [
    "cc['logclose']=np.log1p(cc['close'])\n",
    "plt.hist(cc['logclose'])\n",
    "plt.ylabel(\"Freq\")\n",
    "plt.xlabel(\"Log Closing Value\")\n",
    "plt.show()"
   ]
  },
  {
   "cell_type": "markdown",
   "metadata": {},
   "source": [
    "Closing value is similar to spread value, extremely skewed, or maybe a different transform is needed."
   ]
  },
  {
   "cell_type": "markdown",
   "metadata": {},
   "source": [
    "We then look at the Volume variable."
   ]
  },
  {
   "cell_type": "code",
   "execution_count": 76,
   "metadata": {},
   "outputs": [
    {
     "name": "stdout",
     "output_type": "stream",
     "text": [
      "count    7.850240e+05\n",
      "mean     7.459260e+06\n",
      "std      1.817992e+08\n",
      "min      0.000000e+00\n",
      "25%      6.400000e+01\n",
      "50%      1.201000e+03\n",
      "75%      3.963225e+04\n",
      "max      2.384090e+10\n",
      "Name: volume, dtype: float64\n"
     ]
    }
   ],
   "source": [
    "print(cc.volume.describe())"
   ]
  },
  {
   "cell_type": "markdown",
   "metadata": {},
   "source": [
    "The volume variable shows a low of 0, a high of 23840900000.  The mean is 7459260 with a standard deviaton of 181799200.  The 50% quantile is 1201."
   ]
  },
  {
   "cell_type": "markdown",
   "metadata": {},
   "source": [
    "We look further into log transforming this variable, like we did with the others."
   ]
  },
  {
   "cell_type": "code",
   "execution_count": 77,
   "metadata": {},
   "outputs": [
    {
     "data": {
      "image/png": "[encoded data removed]",
      "text/plain": [
       "<matplotlib.figure.Figure at 0x1c239cf1d0>"
      ]
     },
     "metadata": {},
     "output_type": "display_data"
    },
    {
     "data": {
      "text/plain": [
       "count    785024.000000\n",
       "mean          7.459935\n",
       "std           4.414825\n",
       "min           0.000000\n",
       "25%           4.174387\n",
       "50%           7.091742\n",
       "75%          10.587424\n",
       "max          23.894668\n",
       "Name: logvol, dtype: float64"
      ]
     },
     "execution_count": 77,
     "metadata": {},
     "output_type": "execute_result"
    }
   ],
   "source": [
    "cc['logvol']=np.log1p(cc['volume'])\n",
    "plt.hist(cc['logvol'])\n",
    "plt.xlabel(\"Log Volume\")\n",
    "plt.ylabel(\"Freq\")\n",
    "plt.show()\n",
    "cc.logvol.describe()"
   ]
  },
  {
   "cell_type": "markdown",
   "metadata": {},
   "source": [
    "Volume:\n",
    "Half of all individual coins are exchanged somewhere between e^4 and e^11 times."
   ]
  },
  {
   "cell_type": "markdown",
   "metadata": {},
   "source": [
    "Next, we look into market value.  We discussed this value briefly when we looked at the rank variable."
   ]
  },
  {
   "cell_type": "code",
   "execution_count": 78,
   "metadata": {},
   "outputs": [
    {
     "data": {
      "text/plain": [
       "count    7.850240e+05\n",
       "mean     1.563100e+08\n",
       "std      3.478147e+09\n",
       "min      0.000000e+00\n",
       "25%      1.294600e+04\n",
       "50%      1.932045e+05\n",
       "75%      3.635550e+06\n",
       "max      3.261410e+11\n",
       "Name: market, dtype: float64"
      ]
     },
     "execution_count": 78,
     "metadata": {},
     "output_type": "execute_result"
    }
   ],
   "source": [
    "cc.market.describe()"
   ]
  },
  {
   "cell_type": "markdown",
   "metadata": {},
   "source": [
    "The minimum is 0 and the maximum 326141000000.  The mean is 156310000 and the standard deviation is 3478147000.  The 50% quantile is 193204.5.  We see market value is skewed to the right.\n",
    "\n",
    "Again, we choose to try a log transformation."
   ]
  },
  {
   "cell_type": "code",
   "execution_count": 134,
   "metadata": {},
   "outputs": [
    {
     "data": {
      "image/png": "[encoded data removed]",
      "text/plain": [
       "<matplotlib.figure.Figure at 0x1c2d9305c0>"
      ]
     },
     "metadata": {},
     "output_type": "display_data"
    }
   ],
   "source": [
    "cc['logmarket'] = np.log1p(cc['market'])\n",
    "plt.hist(cc['logmarket'])\n",
    "plt.ylabel(\"Freq\")\n",
    "plt.xlabel(\"Log Market Cap\")\n",
    "plt.show()"
   ]
  },
  {
   "cell_type": "markdown",
   "metadata": {},
   "source": [
    "Log transform of market gives an almost-normal distribution."
   ]
  },
  {
   "cell_type": "markdown",
   "metadata": {},
   "source": [
    "Lastly, we'll look at the closing ratio.  Close ratio is the daily close rate, min-maxed with the high and low values for the day. \n",
    "Close Ratio = (Close-Low)/(High-Low)"
   ]
  },
  {
   "cell_type": "code",
   "execution_count": 80,
   "metadata": {},
   "outputs": [
    {
     "data": {
      "text/plain": [
       "count    7.850240e+05\n",
       "mean             -inf\n",
       "std               NaN\n",
       "min              -inf\n",
       "25%      1.552000e-01\n",
       "50%      4.342000e-01\n",
       "75%      7.586000e-01\n",
       "max      1.000000e+00\n",
       "Name: close_ratio, dtype: float64"
      ]
     },
     "execution_count": 80,
     "metadata": {},
     "output_type": "execute_result"
    }
   ],
   "source": [
    "cc.close_ratio.describe()"
   ]
  },
  {
   "cell_type": "code",
   "execution_count": 81,
   "metadata": {},
   "outputs": [
    {
     "data": {
      "image/png": "[encoded data removed]",
      "text/plain": [
       "<matplotlib.figure.Figure at 0x1c2372f978>"
      ]
     },
     "metadata": {},
     "output_type": "display_data"
    }
   ],
   "source": [
    "plt.boxplot(cc.close_ratio)\n",
    "plt.title(\"Close Ratio\")\n",
    "plt.show()"
   ]
  },
  {
   "cell_type": "markdown",
   "metadata": {},
   "source": [
    "We see that since this is a ratio, the minimum and mean come across as -inf, and the standard deviation is NaN.  The 25% quantile is 0.1552.  The 50% quantile is at 0.4342.  The 75% quantile is 0.7586.  The maximum is, of course, 1.  Close ratio is slightly skewed.  We can't log-transform this variable."
   ]
  },
  {
   "cell_type": "markdown",
   "metadata": {},
   "source": [
    "Let's look at our new dataset with more accommodating log-transformed variables and drop the others.\n"
   ]
  },
  {
   "cell_type": "code",
   "execution_count": 82,
   "metadata": {},
   "outputs": [
    {
     "data": {
      "text/html": [
       "<div>\n",
       "<style scoped>\n",
       "    .dataframe tbody tr th:only-of-type {\n",
       "        vertical-align: middle;\n",
       "    }\n",
       "\n",
       "    .dataframe tbody tr th {\n",
       "        vertical-align: top;\n",
       "    }\n",
       "\n",
       "    .dataframe thead th {\n",
       "        text-align: right;\n",
       "    }\n",
       "</style>\n",
       "<table border=\"1\" class=\"dataframe\">\n",
       "  <thead>\n",
       "    <tr style=\"text-align: right;\">\n",
       "      <th></th>\n",
       "      <th>slug</th>\n",
       "      <th>symbol</th>\n",
       "      <th>name</th>\n",
       "      <th>ranknow</th>\n",
       "      <th>open</th>\n",
       "      <th>high</th>\n",
       "      <th>low</th>\n",
       "      <th>close</th>\n",
       "      <th>volume</th>\n",
       "      <th>market</th>\n",
       "      <th>close_ratio</th>\n",
       "      <th>spread</th>\n",
       "      <th>logopen</th>\n",
       "      <th>logspread</th>\n",
       "      <th>loghigh</th>\n",
       "      <th>loglow</th>\n",
       "      <th>logclose</th>\n",
       "      <th>logvol</th>\n",
       "      <th>logmarket</th>\n",
       "    </tr>\n",
       "    <tr>\n",
       "      <th>date</th>\n",
       "      <th></th>\n",
       "      <th></th>\n",
       "      <th></th>\n",
       "      <th></th>\n",
       "      <th></th>\n",
       "      <th></th>\n",
       "      <th></th>\n",
       "      <th></th>\n",
       "      <th></th>\n",
       "      <th></th>\n",
       "      <th></th>\n",
       "      <th></th>\n",
       "      <th></th>\n",
       "      <th></th>\n",
       "      <th></th>\n",
       "      <th></th>\n",
       "      <th></th>\n",
       "      <th></th>\n",
       "      <th></th>\n",
       "    </tr>\n",
       "  </thead>\n",
       "  <tbody>\n",
       "    <tr>\n",
       "      <th>2013-04-28</th>\n",
       "      <td>bitcoin</td>\n",
       "      <td>BTC</td>\n",
       "      <td>Bitcoin</td>\n",
       "      <td>1</td>\n",
       "      <td>135.30</td>\n",
       "      <td>135.98</td>\n",
       "      <td>132.10</td>\n",
       "      <td>134.21</td>\n",
       "      <td>0.0</td>\n",
       "      <td>1.500520e+09</td>\n",
       "      <td>0.5438</td>\n",
       "      <td>3.88</td>\n",
       "      <td>4.907495</td>\n",
       "      <td>1.585145</td>\n",
       "      <td>4.912508</td>\n",
       "      <td>4.883559</td>\n",
       "      <td>4.906829</td>\n",
       "      <td>0.0</td>\n",
       "      <td>21.129078</td>\n",
       "    </tr>\n",
       "    <tr>\n",
       "      <th>2013-04-29</th>\n",
       "      <td>bitcoin</td>\n",
       "      <td>BTC</td>\n",
       "      <td>Bitcoin</td>\n",
       "      <td>1</td>\n",
       "      <td>134.44</td>\n",
       "      <td>147.49</td>\n",
       "      <td>134.00</td>\n",
       "      <td>144.54</td>\n",
       "      <td>0.0</td>\n",
       "      <td>1.491160e+09</td>\n",
       "      <td>0.7813</td>\n",
       "      <td>13.49</td>\n",
       "      <td>4.901118</td>\n",
       "      <td>2.673459</td>\n",
       "      <td>4.993760</td>\n",
       "      <td>4.897840</td>\n",
       "      <td>4.980451</td>\n",
       "      <td>0.0</td>\n",
       "      <td>21.122820</td>\n",
       "    </tr>\n",
       "    <tr>\n",
       "      <th>2013-04-30</th>\n",
       "      <td>bitcoin</td>\n",
       "      <td>BTC</td>\n",
       "      <td>Bitcoin</td>\n",
       "      <td>1</td>\n",
       "      <td>144.00</td>\n",
       "      <td>146.93</td>\n",
       "      <td>134.05</td>\n",
       "      <td>139.00</td>\n",
       "      <td>0.0</td>\n",
       "      <td>1.597780e+09</td>\n",
       "      <td>0.3843</td>\n",
       "      <td>12.88</td>\n",
       "      <td>4.969813</td>\n",
       "      <td>2.630449</td>\n",
       "      <td>4.989956</td>\n",
       "      <td>4.898213</td>\n",
       "      <td>4.941642</td>\n",
       "      <td>0.0</td>\n",
       "      <td>21.191881</td>\n",
       "    </tr>\n",
       "    <tr>\n",
       "      <th>2013-05-01</th>\n",
       "      <td>bitcoin</td>\n",
       "      <td>BTC</td>\n",
       "      <td>Bitcoin</td>\n",
       "      <td>1</td>\n",
       "      <td>139.00</td>\n",
       "      <td>139.89</td>\n",
       "      <td>107.72</td>\n",
       "      <td>116.99</td>\n",
       "      <td>0.0</td>\n",
       "      <td>1.542820e+09</td>\n",
       "      <td>0.2882</td>\n",
       "      <td>32.17</td>\n",
       "      <td>4.934474</td>\n",
       "      <td>3.501646</td>\n",
       "      <td>4.940856</td>\n",
       "      <td>4.679535</td>\n",
       "      <td>4.770600</td>\n",
       "      <td>0.0</td>\n",
       "      <td>21.156878</td>\n",
       "    </tr>\n",
       "    <tr>\n",
       "      <th>2013-05-02</th>\n",
       "      <td>bitcoin</td>\n",
       "      <td>BTC</td>\n",
       "      <td>Bitcoin</td>\n",
       "      <td>1</td>\n",
       "      <td>116.38</td>\n",
       "      <td>125.60</td>\n",
       "      <td>92.28</td>\n",
       "      <td>105.21</td>\n",
       "      <td>0.0</td>\n",
       "      <td>1.292190e+09</td>\n",
       "      <td>0.3881</td>\n",
       "      <td>33.32</td>\n",
       "      <td>4.756861</td>\n",
       "      <td>3.535728</td>\n",
       "      <td>4.833102</td>\n",
       "      <td>4.524827</td>\n",
       "      <td>4.665418</td>\n",
       "      <td>0.0</td>\n",
       "      <td>20.979604</td>\n",
       "    </tr>\n",
       "  </tbody>\n",
       "</table>\n",
       "</div>"
      ],
      "text/plain": [
       "               slug symbol     name  ranknow    open    high     low   close  \\\n",
       "date                                                                           \n",
       "2013-04-28  bitcoin    BTC  Bitcoin        1  135.30  135.98  132.10  134.21   \n",
       "2013-04-29  bitcoin    BTC  Bitcoin        1  134.44  147.49  134.00  144.54   \n",
       "2013-04-30  bitcoin    BTC  Bitcoin        1  144.00  146.93  134.05  139.00   \n",
       "2013-05-01  bitcoin    BTC  Bitcoin        1  139.00  139.89  107.72  116.99   \n",
       "2013-05-02  bitcoin    BTC  Bitcoin        1  116.38  125.60   92.28  105.21   \n",
       "\n",
       "            volume        market  close_ratio  spread   logopen  logspread  \\\n",
       "date                                                                         \n",
       "2013-04-28     0.0  1.500520e+09       0.5438    3.88  4.907495   1.585145   \n",
       "2013-04-29     0.0  1.491160e+09       0.7813   13.49  4.901118   2.673459   \n",
       "2013-04-30     0.0  1.597780e+09       0.3843   12.88  4.969813   2.630449   \n",
       "2013-05-01     0.0  1.542820e+09       0.2882   32.17  4.934474   3.501646   \n",
       "2013-05-02     0.0  1.292190e+09       0.3881   33.32  4.756861   3.535728   \n",
       "\n",
       "             loghigh    loglow  logclose  logvol  logmarket  \n",
       "date                                                         \n",
       "2013-04-28  4.912508  4.883559  4.906829     0.0  21.129078  \n",
       "2013-04-29  4.993760  4.897840  4.980451     0.0  21.122820  \n",
       "2013-04-30  4.989956  4.898213  4.941642     0.0  21.191881  \n",
       "2013-05-01  4.940856  4.679535  4.770600     0.0  21.156878  \n",
       "2013-05-02  4.833102  4.524827  4.665418     0.0  20.979604  "
      ]
     },
     "execution_count": 82,
     "metadata": {},
     "output_type": "execute_result"
    }
   ],
   "source": [
    "cc.drop(columns=['logspread','logclose'])\n",
    "cc.head()"
   ]
  },
  {
   "cell_type": "markdown",
   "metadata": {},
   "source": [
    "We are going to explore the relationships between some variables with plots to give us ideas of what to model."
   ]
  },
  {
   "cell_type": "code",
   "execution_count": 132,
   "metadata": {},
   "outputs": [
    {
     "data": {
      "image/png": "[encoded data removed]",
      "text/plain": [
       "<matplotlib.figure.Figure at 0x118272b70>"
      ]
     },
     "metadata": {},
     "output_type": "display_data"
    }
   ],
   "source": [
    "plt.scatter(cc['open'],cc['high'])\n",
    "plt.title(\"Opening vs High Value\") \n",
    "plt.xlabel(\"Opening Value\")\n",
    "plt.ylabel(\"High Value\")\n",
    "plt.show()"
   ]
  },
  {
   "cell_type": "markdown",
   "metadata": {},
   "source": [
    "A scatterplot showing the relationship between the opening value of a coin and it's highest value.\n",
    "Opening value and high are directly correlated."
   ]
  },
  {
   "cell_type": "code",
   "execution_count": 84,
   "metadata": {},
   "outputs": [
    {
     "data": {
      "image/png": "[encoded data removed]",
      "text/plain": [
       "<matplotlib.figure.Figure at 0x118207e80>"
      ]
     },
     "metadata": {},
     "output_type": "display_data"
    }
   ],
   "source": [
    "plt.scatter(cc['high'],cc['spread'])\n",
    "plt.title(\"High vs Spread Price\")\n",
    "plt.xlabel(\"High Value\") #Change x and y axis scale\n",
    "plt.ylabel(\"Spread\")\n",
    "plt.show()"
   ]
  },
  {
   "cell_type": "markdown",
   "metadata": {},
   "source": [
    "A scatterplot showing highest value and spread.  We can see a fan in the variance,  non-constant variance is obvious."
   ]
  },
  {
   "cell_type": "markdown",
   "metadata": {},
   "source": [
    "Let's look at which currencies have the highest high and close values."
   ]
  },
  {
   "cell_type": "code",
   "execution_count": 85,
   "metadata": {},
   "outputs": [],
   "source": [
    "highmeans = cc.groupby(['name'])['high'].mean()"
   ]
  },
  {
   "cell_type": "code",
   "execution_count": 86,
   "metadata": {},
   "outputs": [
    {
     "data": {
      "text/plain": [
       "name\n",
       "Bit20                 573800.507742\n",
       "Project-X             291122.594070\n",
       "42-coin                17652.879396\n",
       "Russian Miner Coin     11995.447078\n",
       "Primalbase Token        4615.546571\n",
       "IDEX Membership         4304.785652\n",
       "bitBTC                  3113.846189\n",
       "CryptopiaFeeShares      2673.788523\n",
       "Bitcoin                 1951.660102\n",
       "bitGold                 1461.007459\n",
       "Internet of Things      1261.868184\n",
       "Bitcoin Cash            1182.859091\n",
       "Mixin                    977.271409\n",
       "Maker                    890.052639\n",
       "WETH                     847.635417\n",
       "300 Token                556.053070\n",
       "Byteball Bytes           345.830228\n",
       "Zcash                    264.443959\n",
       "TerraNova                253.844006\n",
       "SegWit2x                 215.186281\n",
       "Ethereum                 205.027354\n",
       "Lightning Bitcoin        197.714129\n",
       "Sovereign Hero           187.035625\n",
       "Veritaseum               181.205357\n",
       "BT2 [CST]                171.860237\n",
       "Bitcoin Gold             166.013568\n",
       "Gnosis                   161.364403\n",
       "Dash                     121.775981\n",
       "Xaurum                   109.507864\n",
       "United Bitcoin           100.948304\n",
       "                          ...      \n",
       "IncaKoin                   0.000093\n",
       "Elite                      0.000091\n",
       "PopularCoin                0.000087\n",
       "Coupecoin                  0.000084\n",
       "VapersCoin                 0.000084\n",
       "Carboncoin                 0.000083\n",
       "EmberCoin                  0.000082\n",
       "Protean                    0.000073\n",
       "Pandacoin                  0.000067\n",
       "SatoshiMadness             0.000059\n",
       "InflationCoin              0.000054\n",
       "LiteDoge                   0.000054\n",
       "EXRNchain                  0.000052\n",
       "Powercoin                  0.000050\n",
       "Selfiecoin                 0.000047\n",
       "Zeitcoin                   0.000042\n",
       "Infinitecoin               0.000040\n",
       "StrongHands                0.000038\n",
       "Mooncoin                   0.000036\n",
       "SmileyCoin                 0.000029\n",
       "Slothcoin                  0.000028\n",
       "Karmacoin                  0.000025\n",
       "NewYorkCoin                0.000023\n",
       "Photon                     0.000017\n",
       "FedoraCoin                 0.000012\n",
       "RabbitCoin                 0.000011\n",
       "Dimecoin                   0.000010\n",
       "BunnyCoin                  0.000009\n",
       "GCN Coin                   0.000007\n",
       "The Cypherfunks            0.000006\n",
       "Name: high, Length: 1643, dtype: float64"
      ]
     },
     "execution_count": 86,
     "metadata": {},
     "output_type": "execute_result"
    }
   ],
   "source": [
    "highmeans.sort_values(ascending = False)"
   ]
  },
  {
   "cell_type": "code",
   "execution_count": 87,
   "metadata": {},
   "outputs": [],
   "source": [
    "closemeans = cc.groupby(['name'])['close'].mean()"
   ]
  },
  {
   "cell_type": "code",
   "execution_count": 88,
   "metadata": {},
   "outputs": [
    {
     "data": {
      "text/plain": [
       "name\n",
       "Bit20                 485437.176774\n",
       "Project-X             231403.399461\n",
       "42-coin                15309.871509\n",
       "Russian Miner Coin     10827.388037\n",
       "Primalbase Token        4239.073048\n",
       "IDEX Membership         3936.608406\n",
       "bitBTC                  2840.327591\n",
       "CryptopiaFeeShares      2416.614765\n",
       "Bitcoin                 1889.513762\n",
       "bitGold                 1366.551230\n",
       "Internet of Things      1134.038905\n",
       "Bitcoin Cash            1104.780376\n",
       "Mixin                    895.261275\n",
       "Maker                    839.815556\n",
       "WETH                     719.216806\n",
       "300 Token                480.605222\n",
       "Byteball Bytes           318.646717\n",
       "Zcash                    237.645051\n",
       "Ethereum                 196.889603\n",
       "SegWit2x                 181.911308\n",
       "Sovereign Hero           173.063406\n",
       "TerraNova                170.493456\n",
       "Lightning Bitcoin        165.915419\n",
       "Veritaseum               155.713325\n",
       "Gnosis                   151.362836\n",
       "Bitcoin Gold             150.840793\n",
       "BT2 [CST]                146.461706\n",
       "Dash                     116.109724\n",
       "Xaurum                   102.320777\n",
       "United Bitcoin            87.891287\n",
       "                          ...      \n",
       "Elite                      0.000075\n",
       "PopularCoin                0.000070\n",
       "EmberCoin                  0.000065\n",
       "IncaKoin                   0.000065\n",
       "Carboncoin                 0.000064\n",
       "Coupecoin                  0.000061\n",
       "VapersCoin                 0.000058\n",
       "Pandacoin                  0.000055\n",
       "SatoshiMadness             0.000051\n",
       "Protean                    0.000051\n",
       "EXRNchain                  0.000045\n",
       "LiteDoge                   0.000042\n",
       "Powercoin                  0.000041\n",
       "InflationCoin              0.000040\n",
       "Selfiecoin                 0.000038\n",
       "Infinitecoin               0.000035\n",
       "Zeitcoin                   0.000032\n",
       "StrongHands                0.000029\n",
       "Mooncoin                   0.000028\n",
       "Karmacoin                  0.000023\n",
       "SmileyCoin                 0.000023\n",
       "NewYorkCoin                0.000019\n",
       "Slothcoin                  0.000016\n",
       "Photon                     0.000013\n",
       "FedoraCoin                 0.000010\n",
       "Dimecoin                   0.000008\n",
       "RabbitCoin                 0.000008\n",
       "BunnyCoin                  0.000007\n",
       "GCN Coin                   0.000005\n",
       "The Cypherfunks            0.000005\n",
       "Name: close, Length: 1643, dtype: float64"
      ]
     },
     "execution_count": 88,
     "metadata": {},
     "output_type": "execute_result"
    }
   ],
   "source": [
    "closemeans.sort_values(ascending = False)"
   ]
  },
  {
   "cell_type": "markdown",
   "metadata": {},
   "source": [
    "In both cases of high and close, the top value is from Bit20 and the lowest is The Cypherfunks."
   ]
  },
  {
   "cell_type": "code",
   "execution_count": 89,
   "metadata": {},
   "outputs": [
    {
     "data": {
      "text/plain": [
       "name\n",
       "Bitcoin             1.171548e+09\n",
       "Bitcoin Cash        9.292763e+08\n",
       "Ethereum            7.075375e+08\n",
       "EOS                 5.363772e+08\n",
       "Tether              4.634491e+08\n",
       "TRON                3.354088e+08\n",
       "Cardano             2.162328e+08\n",
       "Qtum                2.144078e+08\n",
       "Ripple              1.719680e+08\n",
       "Ethereum Classic    1.584033e+08\n",
       "CK USD              1.388396e+08\n",
       "Litecoin            1.208760e+08\n",
       "Huobi Token         1.087217e+08\n",
       "IOTA                9.974698e+07\n",
       "Bitcoin Gold        9.727490e+07\n",
       "Mithril             9.703662e+07\n",
       "Ontology            9.427183e+07\n",
       "NEO                 8.797341e+07\n",
       "IOST                7.076920e+07\n",
       "aelf                6.680524e+07\n",
       "OmiseGO             6.648238e+07\n",
       "True Chain          6.619169e+07\n",
       "Cortex              6.610622e+07\n",
       "Status              6.456758e+07\n",
       "Binance Coin        6.300307e+07\n",
       "Hshare              6.140922e+07\n",
       "ICON                6.091282e+07\n",
       "Storm               6.027209e+07\n",
       "QuarkChain          5.910860e+07\n",
       "VeChain             5.848345e+07\n",
       "                        ...     \n",
       "Bitz                2.164561e+02\n",
       "PrismChain          2.120461e+02\n",
       "Shilling            2.111863e+02\n",
       "ImpulseCoin         2.042978e+02\n",
       "RichCoin            2.040903e+02\n",
       "PosEx               2.003247e+02\n",
       "Opescoin            1.957782e+02\n",
       "Steps               1.957478e+02\n",
       "NodeCoin            1.900261e+02\n",
       "Polcoin             1.765823e+02\n",
       "EggCoin             1.639026e+02\n",
       "BowsCoin            1.616835e+02\n",
       "Selfiecoin          1.612840e+02\n",
       "Metal Music Coin    1.599432e+02\n",
       "PX                  1.585195e+02\n",
       "Cycling Coin        1.575436e+02\n",
       "BTCtalkcoin         1.455293e+02\n",
       "Californium         1.370664e+02\n",
       "DAPPSTER            1.356612e+02\n",
       "Firecoin            1.199340e+02\n",
       "PLNcoin             1.170874e+02\n",
       "MindCoin            1.133014e+02\n",
       "iBank               1.126857e+02\n",
       "MetalCoin           1.084583e+02\n",
       "PokeCoin            1.006804e+02\n",
       "DarkLisk            9.478374e+01\n",
       "Bitcoin 21          9.372652e+01\n",
       "SportsCoin          9.240208e+01\n",
       "TAGRcoin            8.508323e+01\n",
       "X2                  8.047327e+01\n",
       "Name: volume, Length: 1643, dtype: float64"
      ]
     },
     "execution_count": 89,
     "metadata": {},
     "output_type": "execute_result"
    }
   ],
   "source": [
    "volmeans = cc.groupby(['name'])['volume'].mean()\n",
    "volmeans.sort_values(ascending = False)"
   ]
  },
  {
   "cell_type": "markdown",
   "metadata": {},
   "source": [
    "Bit20 has both the highest high and highest close value.  The lowest high belongs to The Cypherfunks and lowest close value belongs to X2."
   ]
  },
  {
   "cell_type": "code",
   "execution_count": 90,
   "metadata": {},
   "outputs": [
    {
     "data": {
      "text/plain": [
       "count    7.850240e+05\n",
       "mean     7.459260e+06\n",
       "std      1.817992e+08\n",
       "min      0.000000e+00\n",
       "25%      6.400000e+01\n",
       "50%      1.201000e+03\n",
       "75%      3.963225e+04\n",
       "max      2.384090e+10\n",
       "Name: volume, dtype: float64"
      ]
     },
     "execution_count": 90,
     "metadata": {},
     "output_type": "execute_result"
    }
   ],
   "source": [
    "cc.volume.describe()"
   ]
  },
  {
   "cell_type": "markdown",
   "metadata": {},
   "source": [
    "The largest volume on average is Bitcoin, which comes as no surprise since it's the most well-known of the cryptocurrencies."
   ]
  },
  {
   "cell_type": "markdown",
   "metadata": {},
   "source": [
    "Volume is the amount of that coin traded in that day in the last 24 hrs.\n",
    "A demand indicator for future price of coin.\n",
    "More demand, higher future price.\n",
    "Mean volume is 7459260."
   ]
  },
  {
   "cell_type": "markdown",
   "metadata": {},
   "source": [
    "Next, we look at the relationship between open and close prices."
   ]
  },
  {
   "cell_type": "code",
   "execution_count": 91,
   "metadata": {},
   "outputs": [
    {
     "data": {
      "image/png": "[encoded data removed]",
      "text/plain": [
       "<matplotlib.figure.Figure at 0x1c23660ac8>"
      ]
     },
     "metadata": {},
     "output_type": "display_data"
    }
   ],
   "source": [
    "plt.scatter(cc['open'],cc['close'])\n",
    "plt.title(\"Open vs Close Price\")\n",
    "plt.xlabel(\"Open Value\") #Change x and y axis scale\n",
    "plt.ylabel(\"Close\")\n",
    "mod_fit = sm.OLS(cc.open, cc.close).fit()\n",
    "res = mod_fit.resid # residuals\n",
    "plt.show()"
   ]
  },
  {
   "cell_type": "markdown",
   "metadata": {},
   "source": [
    "This relationship looks like one that could very accurately be modeled by a linear model.  We will explore this below in the modeling section."
   ]
  },
  {
   "cell_type": "markdown",
   "metadata": {},
   "source": [
    "Next, we look deeper into the time series."
   ]
  },
  {
   "cell_type": "code",
   "execution_count": 92,
   "metadata": {},
   "outputs": [
    {
     "data": {
      "text/plain": [
       "Text(0.5,1,'Bitcoin Opening Price from 2013 to 2018')"
      ]
     },
     "execution_count": 92,
     "metadata": {},
     "output_type": "execute_result"
    },
    {
     "data": {
      "image/png": "[encoded data removed]",
      "text/plain": [
       "<matplotlib.figure.Figure at 0x117543f98>"
      ]
     },
     "metadata": {},
     "output_type": "display_data"
    }
   ],
   "source": [
    "bit = cc['name']==\"Bitcoin\"\n",
    "bitopen = cc.logopen[bit]\n",
    "plt.plot(bitopen)\n",
    "plt.title(\"Bitcoin Opening Price from 2013 to 2018\")"
   ]
  },
  {
   "cell_type": "markdown",
   "metadata": {},
   "source": [
    "The high prices reflect the same trend as the opening prices.  "
   ]
  },
  {
   "cell_type": "code",
   "execution_count": 129,
   "metadata": {},
   "outputs": [
    {
     "data": {
      "text/plain": [
       "Text(0,0.5,'log Volume')"
      ]
     },
     "execution_count": 129,
     "metadata": {},
     "output_type": "execute_result"
    },
    {
     "data": {
      "image/png": "[encoded data removed]",
      "text/plain": [
       "<matplotlib.figure.Figure at 0x1c1fd2d710>"
      ]
     },
     "metadata": {},
     "output_type": "display_data"
    }
   ],
   "source": [
    "bitvol = cc.logvol[bit]\n",
    "plt.plot(bitvol)\n",
    "plt.title(\"Volume of Bitcoin exchanged from 2013 to 2018\")\n",
    "plt.xlabel(\"Year\")\n",
    "plt.ylabel(\"log Volume\")"
   ]
  },
  {
   "cell_type": "markdown",
   "metadata": {},
   "source": [
    "The volume of bitcoin traded has only increased throughout the years."
   ]
  },
  {
   "cell_type": "code",
   "execution_count": 94,
   "metadata": {},
   "outputs": [
    {
     "data": {
      "text/plain": [
       "Text(0.5,1,'Bitcoin Spread over Time')"
      ]
     },
     "execution_count": 94,
     "metadata": {},
     "output_type": "execute_result"
    },
    {
     "data": {
      "image/png": "[encoded data removed]",
      "text/plain": [
       "<matplotlib.figure.Figure at 0x1c1adbc518>"
      ]
     },
     "metadata": {},
     "output_type": "display_data"
    }
   ],
   "source": [
    "bitspread = cc.spread[bit]\n",
    "plt.plot(bitspread)\n",
    "plt.title(\"Bitcoin Spread over Time\")"
   ]
  },
  {
   "cell_type": "markdown",
   "metadata": {},
   "source": [
    "Bitcoin spread fluctuates quite a bit towards the end of 2017, which corresponds with the bitcoin crash of December 17, 2017."
   ]
  },
  {
   "cell_type": "markdown",
   "metadata": {},
   "source": [
    "## Model"
   ]
  },
  {
   "cell_type": "markdown",
   "metadata": {},
   "source": [
    "### Simple Linear Model Between Open and Close"
   ]
  },
  {
   "cell_type": "code",
   "execution_count": 95,
   "metadata": {},
   "outputs": [
    {
     "name": "stdout",
     "output_type": "stream",
     "text": [
      "(785024, 1)\n"
     ]
    }
   ],
   "source": [
    "X = cc.open\n",
    "X.shape\n",
    "X = X.values.reshape([785024,1])\n",
    "print(X.shape)\n",
    "y= cc.close"
   ]
  },
  {
   "cell_type": "code",
   "execution_count": 96,
   "metadata": {},
   "outputs": [],
   "source": [
    "regr = linear_model.LinearRegression()"
   ]
  },
  {
   "cell_type": "code",
   "execution_count": 97,
   "metadata": {},
   "outputs": [
    {
     "data": {
      "text/plain": [
       "LinearRegression(copy_X=True, fit_intercept=True, n_jobs=1, normalize=False)"
      ]
     },
     "execution_count": 97,
     "metadata": {},
     "output_type": "execute_result"
    }
   ],
   "source": [
    "regr.fit(X,y)"
   ]
  },
  {
   "cell_type": "markdown",
   "metadata": {},
   "source": [
    "##### Coefficients and Intercepts"
   ]
  },
  {
   "cell_type": "code",
   "execution_count": 98,
   "metadata": {},
   "outputs": [
    {
     "name": "stdout",
     "output_type": "stream",
     "text": [
      "Coefficients: \n",
      " [0.9511476]\n",
      "Intercept: \n",
      " 15.910857376516503\n"
     ]
    }
   ],
   "source": [
    "print('Coefficients: \\n', regr.coef_)\n",
    "print('Intercept: \\n', regr.intercept_)"
   ]
  },
  {
   "cell_type": "markdown",
   "metadata": {},
   "source": [
    "The coefficient means that for every USD increase in opening price, the closing price's projected increase is 0.9511 USD.  The intercept, which would have no real-world meaning would be that given a 0 USD opening price, the projected close price would be 15.91 USD; which is, of course, not true."
   ]
  },
  {
   "cell_type": "markdown",
   "metadata": {},
   "source": [
    "##### R^2 Value"
   ]
  },
  {
   "cell_type": "code",
   "execution_count": 99,
   "metadata": {},
   "outputs": [
    {
     "data": {
      "text/plain": [
       "0.9143320966535049"
      ]
     },
     "execution_count": 99,
     "metadata": {},
     "output_type": "execute_result"
    }
   ],
   "source": [
    "# r squared value\n",
    "regr.score(X, y)  # when we fit all of the data points"
   ]
  },
  {
   "cell_type": "markdown",
   "metadata": {},
   "source": [
    "This means that this model explains 91.4% of the variation in the response variable around its mean."
   ]
  },
  {
   "cell_type": "markdown",
   "metadata": {},
   "source": [
    "##### Plot"
   ]
  },
  {
   "cell_type": "code",
   "execution_count": 100,
   "metadata": {},
   "outputs": [
    {
     "data": {
      "image/png": "[encoded data removed]",
      "text/plain": [
       "<matplotlib.figure.Figure at 0x118272710>"
      ]
     },
     "metadata": {},
     "output_type": "display_data"
    }
   ],
   "source": [
    "plt.plot(X, regr.predict(X),color='r')\n",
    "plt.scatter(cc['open'],cc['close'])\n",
    "plt.title(\"Open vs Close Price\")\n",
    "plt.xlabel(\"Open Value\") #Change x and y axis scale\n",
    "plt.ylabel(\"Close\")\n",
    "mod_fit = sm.OLS(cc.open, cc.close).fit()\n",
    "res = mod_fit.resid # residuals\n",
    "plt.show()\n",
    "y_pred = regr.predict(X)"
   ]
  },
  {
   "cell_type": "code",
   "execution_count": 101,
   "metadata": {},
   "outputs": [
    {
     "data": {
      "text/plain": [
       "<matplotlib.axes._subplots.AxesSubplot at 0x1c1bf95898>"
      ]
     },
     "execution_count": 101,
     "metadata": {},
     "output_type": "execute_result"
    },
    {
     "data": {
      "image/png": "[encoded data removed]",
      "text/plain": [
       "<matplotlib.figure.Figure at 0x1177c8c50>"
      ]
     },
     "metadata": {},
     "output_type": "display_data"
    }
   ],
   "source": [
    "residuals_linear = y - y_pred\n",
    "sns.distplot(residuals_linear)"
   ]
  },
  {
   "cell_type": "markdown",
   "metadata": {},
   "source": [
    "The data does look normal."
   ]
  },
  {
   "cell_type": "code",
   "execution_count": 102,
   "metadata": {},
   "outputs": [
    {
     "data": {
      "image/png": "[encoded data removed]",
      "text/plain": [
       "<matplotlib.figure.Figure at 0x1c1fd8ce10>"
      ]
     },
     "metadata": {},
     "output_type": "display_data"
    }
   ],
   "source": [
    "plt.scatter(y_pred, res)\n",
    "plt.show()"
   ]
  },
  {
   "cell_type": "markdown",
   "metadata": {},
   "source": [
    "There are no obvious trends in the residuals."
   ]
  },
  {
   "cell_type": "markdown",
   "metadata": {},
   "source": [
    "##### Cross-Validation"
   ]
  },
  {
   "cell_type": "code",
   "execution_count": 103,
   "metadata": {},
   "outputs": [
    {
     "name": "stdout",
     "output_type": "stream",
     "text": [
      "[0.99152461 0.95170542 0.90813792 0.97480055 0.92823925]\n"
     ]
    }
   ],
   "source": [
    "cv_results = cross_val_score(regr, X, y, cv = 5)  # 5 fold cross validation\n",
    "\n",
    "print(cv_results)  # lots of variation\n",
    "# an undesirable trait"
   ]
  },
  {
   "cell_type": "markdown",
   "metadata": {},
   "source": [
    "The R^2 and CV values reassure us that the simple linear model is a good fit."
   ]
  },
  {
   "cell_type": "markdown",
   "metadata": {},
   "source": [
    "We will try Ridge regression to get something that hopefully performs a little bit better."
   ]
  },
  {
   "cell_type": "markdown",
   "metadata": {},
   "source": [
    "### Ridge Regression"
   ]
  },
  {
   "cell_type": "code",
   "execution_count": 104,
   "metadata": {},
   "outputs": [],
   "source": [
    "ridgemodel = linear_model.Ridge(alpha =1)\n",
    "fit2= ridgemodel.fit(X,y)"
   ]
  },
  {
   "cell_type": "markdown",
   "metadata": {},
   "source": [
    "##### Coefficient and Intercept"
   ]
  },
  {
   "cell_type": "code",
   "execution_count": 105,
   "metadata": {},
   "outputs": [
    {
     "name": "stdout",
     "output_type": "stream",
     "text": [
      "Ridge Coefficient: \n",
      " [0.9511476]\n",
      "Ridge Intercept: \n",
      " 15.910857376530089\n"
     ]
    }
   ],
   "source": [
    "print('Ridge Coefficient: \\n', ridgemodel.coef_)\n",
    "print('Ridge Intercept: \\n', ridgemodel.intercept_)"
   ]
  },
  {
   "cell_type": "markdown",
   "metadata": {},
   "source": [
    "The coefficient means that for every USD increase in opening price, the closing price's projected increase is 0.9511 USD.  The intercept, which would have no real-world meaning would be that given a 0 USD opening price, the projected close price would be 15.91 USD; which is, of course, not true.\n",
    "\n",
    "Note that since this is a ridge regression with one predictor, this answer is virtually identical to the simple linear regression."
   ]
  },
  {
   "cell_type": "markdown",
   "metadata": {},
   "source": [
    "##### Ridge Model Score"
   ]
  },
  {
   "cell_type": "code",
   "execution_count": 106,
   "metadata": {},
   "outputs": [
    {
     "data": {
      "text/plain": [
       "0.9143320966535049"
      ]
     },
     "execution_count": 106,
     "metadata": {},
     "output_type": "execute_result"
    }
   ],
   "source": [
    "ridgemodel.score(X,y)"
   ]
  },
  {
   "cell_type": "markdown",
   "metadata": {},
   "source": [
    "This means that this model explains 91.4% of the variation in the response variable around its mean."
   ]
  },
  {
   "cell_type": "markdown",
   "metadata": {},
   "source": [
    "##### Cross-Validation"
   ]
  },
  {
   "cell_type": "code",
   "execution_count": 107,
   "metadata": {},
   "outputs": [
    {
     "name": "stdout",
     "output_type": "stream",
     "text": [
      "[0.99152461 0.95170542 0.90813792 0.97480055 0.92823925]\n"
     ]
    }
   ],
   "source": [
    "cv_results = cross_val_score(ridgemodel, X, y, cv = 5)  # 5 fold cross validation\n",
    "print(cv_results)  "
   ]
  },
  {
   "cell_type": "markdown",
   "metadata": {},
   "source": [
    "##### Plot"
   ]
  },
  {
   "cell_type": "code",
   "execution_count": 108,
   "metadata": {},
   "outputs": [
    {
     "data": {
      "image/png": "[encoded data removed]",
      "text/plain": [
       "<matplotlib.figure.Figure at 0x1c1fcf8400>"
      ]
     },
     "metadata": {},
     "output_type": "display_data"
    }
   ],
   "source": [
    "plt.plot(X, ridgemodel.predict(X),color='r')\n",
    "plt.scatter(cc['open'],cc['close'])\n",
    "plt.title(\"Open vs Close Price\")\n",
    "plt.xlabel(\"Open Value\") #Change x and y axis scale\n",
    "plt.ylabel(\"Close\")\n",
    "plt.show()\n",
    "y_pred = ridgemodel.predict(X)"
   ]
  },
  {
   "cell_type": "markdown",
   "metadata": {},
   "source": [
    "We use both Linaer Regression and Ridge Regression to create a moel for this data. They came out very similarly because it is a simple linear regression.  We chose not to include more predictors because our R^2 and our Ridge scores are very good, both over 91%. "
   ]
  },
  {
   "cell_type": "markdown",
   "metadata": {},
   "source": [
    "### Multiple Linear Regression"
   ]
  },
  {
   "cell_type": "code",
   "execution_count": 109,
   "metadata": {},
   "outputs": [],
   "source": [
    "regr2 = linear_model.LinearRegression()\n",
    "X2 = cc[['open','high','low']]"
   ]
  },
  {
   "cell_type": "code",
   "execution_count": 110,
   "metadata": {},
   "outputs": [
    {
     "name": "stdout",
     "output_type": "stream",
     "text": [
      "(785024, 3)\n"
     ]
    }
   ],
   "source": [
    "X2.shape\n",
    "X2 = X2.values.reshape([785024,3])\n",
    "print(X2.shape)"
   ]
  },
  {
   "cell_type": "code",
   "execution_count": 111,
   "metadata": {},
   "outputs": [
    {
     "data": {
      "text/plain": [
       "LinearRegression(copy_X=True, fit_intercept=True, n_jobs=1, normalize=False)"
      ]
     },
     "execution_count": 111,
     "metadata": {},
     "output_type": "execute_result"
    }
   ],
   "source": [
    "regr2.fit(X2,y)"
   ]
  },
  {
   "cell_type": "markdown",
   "metadata": {},
   "source": [
    "##### Coefficients and Intercepts"
   ]
  },
  {
   "cell_type": "code",
   "execution_count": 112,
   "metadata": {},
   "outputs": [
    {
     "name": "stdout",
     "output_type": "stream",
     "text": [
      "Coefficients: \n",
      " [-0.3143337   0.51906872  0.80648243]\n",
      "Intercept: \n",
      " 5.132104625772854\n"
     ]
    }
   ],
   "source": [
    "print('Coefficients: \\n', regr2.coef_)\n",
    "print('Intercept: \\n', regr2.intercept_)"
   ]
  },
  {
   "cell_type": "markdown",
   "metadata": {},
   "source": [
    "The first coefficient means that for every USD increase in opening price, the closing price's projected decrease is -0.314 USD. The second coefficient means that for every USD increase in high price, the closing price's projected increase is 0.519 USD.  The third coefficient means that for every USD increase in opening price, the closing price's projected decrease is 0.806 USD. The intercept, which would have no real-world meaning would be that given a 0 USD opening price, the projected close price would be 5.13 USD; which is, of course, not true."
   ]
  },
  {
   "cell_type": "markdown",
   "metadata": {},
   "source": [
    "##### R^2"
   ]
  },
  {
   "cell_type": "code",
   "execution_count": 113,
   "metadata": {},
   "outputs": [
    {
     "data": {
      "text/plain": [
       "0.9729132582697259"
      ]
     },
     "execution_count": 113,
     "metadata": {},
     "output_type": "execute_result"
    }
   ],
   "source": [
    "# r squared value\n",
    "regr2.score(X2, y)  # when we fit all of the data points"
   ]
  },
  {
   "cell_type": "markdown",
   "metadata": {},
   "source": [
    "##### Cross-Validation"
   ]
  },
  {
   "cell_type": "code",
   "execution_count": 114,
   "metadata": {},
   "outputs": [
    {
     "name": "stdout",
     "output_type": "stream",
     "text": [
      "[0.99878657 0.98678459 0.96595953 0.99341537 0.93848605]\n"
     ]
    }
   ],
   "source": [
    "cv_results = cross_val_score(regr2, X2, y, cv = 5)  # 5 fold cross validation\n",
    "print(cv_results)  "
   ]
  },
  {
   "cell_type": "markdown",
   "metadata": {},
   "source": [
    "The multiple linear regression, using high and low in addition to the open predictor gives a R^2 of 97.3%! This means that this model explains 97.3% of the variation in the response variable around its mean."
   ]
  },
  {
   "cell_type": "code",
   "execution_count": 115,
   "metadata": {},
   "outputs": [],
   "source": [
    "from statsmodels.tsa.stattools import adfuller\n",
    "def test_stationarity(timeseries):\n",
    "    \n",
    "    #Determing rolling statistics\n",
    "    rolmean = timeseries.rolling(window=12,center=False).mean()\n",
    "    rolstd = timeseries.rolling(window=12,center=False).std()\n",
    "\n",
    "    #Plot rolling statistics:\n",
    "    orig = plt.plot(timeseries, color='blue',label='Original')\n",
    "    mean = plt.plot(rolmean, color='red', label='Rolling Mean')\n",
    "    std = plt.plot(rolstd, color='black', label = 'Rolling Std')\n",
    "    plt.legend(loc='best')\n",
    "    plt.title('Rolling Mean & Standard Deviation')\n",
    "    plt.show(block=False)\n",
    "    \n",
    "    #Perform Dickey-Fuller test:\n",
    "    print('Results of Dickey-Fuller Test:')\n",
    "    dftest = adfuller(timeseries, autolag='AIC')\n",
    "    dfoutput = pd.Series(dftest[0:4], index=['Test Statistic','p-value','#Lags Used','Number of Observations Used'])\n",
    "    for key,value in dftest[4].items():\n",
    "        dfoutput['Critical Value (%s)'%key] = value\n",
    "    print(dfoutput)"
   ]
  },
  {
   "cell_type": "code",
   "execution_count": 116,
   "metadata": {},
   "outputs": [
    {
     "data": {
      "image/png": "[encoded data removed]",
      "text/plain": [
       "<matplotlib.figure.Figure at 0x11780eef0>"
      ]
     },
     "metadata": {},
     "output_type": "display_data"
    },
    {
     "name": "stdout",
     "output_type": "stream",
     "text": [
      "Results of Dickey-Fuller Test:\n",
      "Test Statistic                   -0.604740\n",
      "p-value                           0.869907\n",
      "#Lags Used                       23.000000\n",
      "Number of Observations Used    1842.000000\n",
      "Critical Value (1%)              -3.433905\n",
      "Critical Value (5%)              -2.863110\n",
      "Critical Value (10%)             -2.567606\n",
      "dtype: float64\n"
     ]
    }
   ],
   "source": [
    "test_stationarity(bitopen)"
   ]
  },
  {
   "cell_type": "markdown",
   "metadata": {},
   "source": [
    "The Dickey-Fuller Test is a test for stationarity. Here the rolling mean and rolling standard deviation do not remain constant. We conclude that the condition of stationarity is fulfilled when the test statistic is lower than any of the critical values, but that is not the case here. We will attempt to make this series as close to stationary as is possible. "
   ]
  },
  {
   "cell_type": "code",
   "execution_count": 117,
   "metadata": {},
   "outputs": [
    {
     "data": {
      "text/plain": [
       "[<matplotlib.lines.Line2D at 0x1c1db046a0>]"
      ]
     },
     "execution_count": 117,
     "metadata": {},
     "output_type": "execute_result"
    },
    {
     "data": {
      "image/png": "[encoded data removed]",
      "text/plain": [
       "<matplotlib.figure.Figure at 0x1c1bee8908>"
      ]
     },
     "metadata": {},
     "output_type": "display_data"
    }
   ],
   "source": [
    "moving_avg = bitopen.rolling(window=12,center=False).mean()\n",
    "plt.plot(bitopen)\n",
    "plt.plot(moving_avg, color='red')"
   ]
  },
  {
   "cell_type": "code",
   "execution_count": 118,
   "metadata": {},
   "outputs": [
    {
     "data": {
      "text/plain": [
       "date\n",
       "2013-04-28         NaN\n",
       "2013-04-29         NaN\n",
       "2013-04-30         NaN\n",
       "2013-05-01         NaN\n",
       "2013-05-02         NaN\n",
       "2013-05-03         NaN\n",
       "2013-05-04         NaN\n",
       "2013-05-05         NaN\n",
       "2013-05-06         NaN\n",
       "2013-05-07         NaN\n",
       "2013-05-08         NaN\n",
       "2013-05-09   -0.049859\n",
       "Name: logopen, dtype: float64"
      ]
     },
     "execution_count": 118,
     "metadata": {},
     "output_type": "execute_result"
    }
   ],
   "source": [
    "bitopen_moving_avg_diff = bitopen - moving_avg\n",
    "bitopen_moving_avg_diff.head(12)"
   ]
  },
  {
   "cell_type": "code",
   "execution_count": 119,
   "metadata": {},
   "outputs": [
    {
     "data": {
      "image/png": "[encoded data removed]",
      "text/plain": [
       "<matplotlib.figure.Figure at 0x1c1dadae80>"
      ]
     },
     "metadata": {},
     "output_type": "display_data"
    },
    {
     "name": "stdout",
     "output_type": "stream",
     "text": [
      "Results of Dickey-Fuller Test:\n",
      "Test Statistic                -7.699141e+00\n",
      "p-value                        1.353953e-11\n",
      "#Lags Used                     2.200000e+01\n",
      "Number of Observations Used    1.832000e+03\n",
      "Critical Value (1%)           -3.433925e+00\n",
      "Critical Value (5%)           -2.863119e+00\n",
      "Critical Value (10%)          -2.567611e+00\n",
      "dtype: float64\n"
     ]
    }
   ],
   "source": [
    "bitopen_moving_avg_diff.dropna(inplace=True)\n",
    "test_stationarity(bitopen_moving_avg_diff)"
   ]
  },
  {
   "cell_type": "markdown",
   "metadata": {},
   "source": [
    "After smoothing by finding the rolling mean, we achieve a test statistic lower than even the 1% the critical value. We reject the null and say with 99% confidence that this series has achieved stationarity."
   ]
  },
  {
   "cell_type": "code",
   "execution_count": 127,
   "metadata": {
    "scrolled": true
   },
   "outputs": [
    {
     "name": "stdout",
     "output_type": "stream",
     "text": [
      "Lag: 25\n",
      "Coefficients: [ 0.00487413  1.00066393 -0.0176042   0.00847118  0.04104188  0.00764925\n",
      "  0.01594388 -0.07263909  0.00768099  0.01815972  0.04158254  0.00287009\n",
      " -0.06100653  0.00360816  0.02463699 -0.01143482 -0.03035623  0.1061651\n",
      " -0.09937761 -0.0181902   0.09874851 -0.0910251   0.05933864 -0.08225046\n",
      "  0.02346249  0.02337139]\n",
      "predicted=8.924101, expected=8.910066\n",
      "predicted=8.920535, expected=8.922752\n",
      "predicted=8.913676, expected=8.927542\n",
      "predicted=8.909012, expected=8.940117\n",
      "predicted=8.909085, expected=8.951897\n",
      "predicted=8.916157, expected=8.922778\n",
      "predicted=8.911830, expected=8.939315\n",
      "Test MSE: 0.001\n"
     ]
    },
    {
     "data": {
      "image/png": "[encoded data removed]",
      "text/plain": [
       "<matplotlib.figure.Figure at 0x1c1df1f320>"
      ]
     },
     "metadata": {},
     "output_type": "display_data"
    }
   ],
   "source": [
    "series = bitopen\n",
    "# split dataset\n",
    "X = series.values\n",
    "train, test = X[1:len(X)-7], X[len(X)-7:]\n",
    "# train autoregression\n",
    "model = AR(train)\n",
    "model_fit = model.fit()\n",
    "print('Lag: %s' % model_fit.k_ar)\n",
    "print('Coefficients: %s' % model_fit.params)\n",
    "# make predictions\n",
    "predictions = model_fit.predict(start=len(train), end=len(train)+len(test)-1, dynamic=False)\n",
    "for i in range(len(predictions)):\n",
    "\tprint('predicted=%f, expected=%f' % (predictions[i], test[i]))\n",
    "error = mean_squared_error(test, predictions)\n",
    "print('Test MSE: %.3f' % error)\n",
    "# plot results\n",
    "pyplot.plot(test)\n",
    "pyplot.plot(predictions, color='red')\n",
    "plt.xlabel(\"Days from June 6th, 2018\")\n",
    "plt.ylabel(\"Log Transform of Opening Price (USD)\")\n",
    "plt.title(\"Projected Opening Price of Bitcoin\")\n",
    "pyplot.show()"
   ]
  },
  {
   "cell_type": "code",
   "execution_count": 125,
   "metadata": {},
   "outputs": [
    {
     "data": {
      "text/plain": [
       "date\n",
       "2018-06-02    8.927542\n",
       "2018-06-03    8.940117\n",
       "2018-06-04    8.951897\n",
       "2018-06-05    8.922778\n",
       "2018-06-06    8.939315\n",
       "Name: logopen, dtype: float64"
      ]
     },
     "execution_count": 125,
     "metadata": {},
     "output_type": "execute_result"
    }
   ],
   "source": [
    "bitopen.tail()"
   ]
  },
  {
   "cell_type": "markdown",
   "metadata": {},
   "source": [
    "The autoregression model is shown above. Blue values are expected values and red values are predicted. Autoregression is a time series model that uses observations from previous time steps in a regression model to predict the value at the next time increment. It is widely used in time series forecasts. \n",
    "\n",
    "The forecast for Bitcoin for the next seven days after June 6, 2018 starts at e^8.925 which is approximately 7518 dollars. This makes sense because the last value on June 6th is e^8.939, or 7555 USD."
   ]
  },
  {
   "cell_type": "markdown",
   "metadata": {},
   "source": [
    "Link to Slides:  https://docs.google.com/presentation/d/1TsbAjpUbPSwQ0hKMuLA5pqIbW5gNTyJciWVGwPcGUYc/edit?usp=sharing"
   ]
  },
  {
   "cell_type": "markdown",
   "metadata": {},
   "source": [
    "Link to Video:  https://youtu.be/xs1x4R9PA_g "
   ]
  }
 ],
 "metadata": {
  "kernelspec": {
   "display_name": "Python 3",
   "language": "python",
   "name": "python3"
  },
  "language_info": {
   "codemirror_mode": {
    "name": "ipython",
    "version": 3
   },
   "file_extension": ".py",
   "mimetype": "text/x-python",
   "name": "python",
   "nbconvert_exporter": "python",
   "pygments_lexer": "ipython3",
   "version": "3.6.4"
  }
 },
 "nbformat": 4,
 "nbformat_minor": 2
}
